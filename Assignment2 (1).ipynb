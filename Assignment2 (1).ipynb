{
  "cells": [
    {
      "cell_type": "code",
      "execution_count": 1,
      "metadata": {
        "id": "yR7FjT-kzxuQ"
      },
      "outputs": [],
      "source": [
        "import pandas as pd\n",
        "import numpy as np"
      ]
    },
    {
      "cell_type": "markdown",
      "metadata": {
        "id": "nwLblBuvG8MM"
      },
      "source": [
        "#1. Download the dataset: Dataset\n",
        "2. Load the dataset."
      ]
    },
    {
      "cell_type": "code",
      "execution_count": 2,
      "metadata": {
        "id": "wj0vhm4x0KS0"
      },
      "outputs": [],
      "source": [
        "df=pd.read_csv('/content/Churn_Modelling.csv')"
      ]
    },
    {
      "cell_type": "code",
      "execution_count": null,
      "metadata": {
        "colab": {
          "base_uri": "https://localhost:8080/",
          "height": 270
        },
        "id": "UzhQOcciuKBv",
        "outputId": "2a5f5010-75ae-436c-cf79-5f0a47c8b7bd"
      },
      "outputs": [
        {
          "data": {
            "text/html": [
              "\n",
              "  <div id=\"df-7e8fe3a2-3978-4429-8a40-704fba390563\">\n",
              "    <div class=\"colab-df-container\">\n",
              "      <div>\n",
              "<style scoped>\n",
              "    .dataframe tbody tr th:only-of-type {\n",
              "        vertical-align: middle;\n",
              "    }\n",
              "\n",
              "    .dataframe tbody tr th {\n",
              "        vertical-align: top;\n",
              "    }\n",
              "\n",
              "    .dataframe thead th {\n",
              "        text-align: right;\n",
              "    }\n",
              "</style>\n",
              "<table border=\"1\" class=\"dataframe\">\n",
              "  <thead>\n",
              "    <tr style=\"text-align: right;\">\n",
              "      <th></th>\n",
              "      <th>RowNumber</th>\n",
              "      <th>CustomerId</th>\n",
              "      <th>Surname</th>\n",
              "      <th>CreditScore</th>\n",
              "      <th>Geography</th>\n",
              "      <th>Gender</th>\n",
              "      <th>Age</th>\n",
              "      <th>Tenure</th>\n",
              "      <th>Balance</th>\n",
              "      <th>NumOfProducts</th>\n",
              "      <th>HasCrCard</th>\n",
              "      <th>IsActiveMember</th>\n",
              "      <th>EstimatedSalary</th>\n",
              "      <th>Exited</th>\n",
              "    </tr>\n",
              "  </thead>\n",
              "  <tbody>\n",
              "    <tr>\n",
              "      <th>0</th>\n",
              "      <td>1</td>\n",
              "      <td>15634602</td>\n",
              "      <td>Hargrave</td>\n",
              "      <td>619</td>\n",
              "      <td>France</td>\n",
              "      <td>Female</td>\n",
              "      <td>42</td>\n",
              "      <td>2</td>\n",
              "      <td>0.00</td>\n",
              "      <td>1</td>\n",
              "      <td>1</td>\n",
              "      <td>1</td>\n",
              "      <td>101348.88</td>\n",
              "      <td>1</td>\n",
              "    </tr>\n",
              "    <tr>\n",
              "      <th>1</th>\n",
              "      <td>2</td>\n",
              "      <td>15647311</td>\n",
              "      <td>Hill</td>\n",
              "      <td>608</td>\n",
              "      <td>Spain</td>\n",
              "      <td>Female</td>\n",
              "      <td>41</td>\n",
              "      <td>1</td>\n",
              "      <td>83807.86</td>\n",
              "      <td>1</td>\n",
              "      <td>0</td>\n",
              "      <td>1</td>\n",
              "      <td>112542.58</td>\n",
              "      <td>0</td>\n",
              "    </tr>\n",
              "    <tr>\n",
              "      <th>2</th>\n",
              "      <td>3</td>\n",
              "      <td>15619304</td>\n",
              "      <td>Onio</td>\n",
              "      <td>502</td>\n",
              "      <td>France</td>\n",
              "      <td>Female</td>\n",
              "      <td>42</td>\n",
              "      <td>8</td>\n",
              "      <td>159660.80</td>\n",
              "      <td>3</td>\n",
              "      <td>1</td>\n",
              "      <td>0</td>\n",
              "      <td>113931.57</td>\n",
              "      <td>1</td>\n",
              "    </tr>\n",
              "    <tr>\n",
              "      <th>3</th>\n",
              "      <td>4</td>\n",
              "      <td>15701354</td>\n",
              "      <td>Boni</td>\n",
              "      <td>699</td>\n",
              "      <td>France</td>\n",
              "      <td>Female</td>\n",
              "      <td>39</td>\n",
              "      <td>1</td>\n",
              "      <td>0.00</td>\n",
              "      <td>2</td>\n",
              "      <td>0</td>\n",
              "      <td>0</td>\n",
              "      <td>93826.63</td>\n",
              "      <td>0</td>\n",
              "    </tr>\n",
              "    <tr>\n",
              "      <th>4</th>\n",
              "      <td>5</td>\n",
              "      <td>15737888</td>\n",
              "      <td>Mitchell</td>\n",
              "      <td>850</td>\n",
              "      <td>Spain</td>\n",
              "      <td>Female</td>\n",
              "      <td>43</td>\n",
              "      <td>2</td>\n",
              "      <td>125510.82</td>\n",
              "      <td>1</td>\n",
              "      <td>1</td>\n",
              "      <td>1</td>\n",
              "      <td>79084.10</td>\n",
              "      <td>0</td>\n",
              "    </tr>\n",
              "  </tbody>\n",
              "</table>\n",
              "</div>\n",
              "      <button class=\"colab-df-convert\" onclick=\"convertToInteractive('df-7e8fe3a2-3978-4429-8a40-704fba390563')\"\n",
              "              title=\"Convert this dataframe to an interactive table.\"\n",
              "              style=\"display:none;\">\n",
              "        \n",
              "  <svg xmlns=\"http://www.w3.org/2000/svg\" height=\"24px\"viewBox=\"0 0 24 24\"\n",
              "       width=\"24px\">\n",
              "    <path d=\"M0 0h24v24H0V0z\" fill=\"none\"/>\n",
              "    <path d=\"M18.56 5.44l.94 2.06.94-2.06 2.06-.94-2.06-.94-.94-2.06-.94 2.06-2.06.94zm-11 1L8.5 8.5l.94-2.06 2.06-.94-2.06-.94L8.5 2.5l-.94 2.06-2.06.94zm10 10l.94 2.06.94-2.06 2.06-.94-2.06-.94-.94-2.06-.94 2.06-2.06.94z\"/><path d=\"M17.41 7.96l-1.37-1.37c-.4-.4-.92-.59-1.43-.59-.52 0-1.04.2-1.43.59L10.3 9.45l-7.72 7.72c-.78.78-.78 2.05 0 2.83L4 21.41c.39.39.9.59 1.41.59.51 0 1.02-.2 1.41-.59l7.78-7.78 2.81-2.81c.8-.78.8-2.07 0-2.86zM5.41 20L4 18.59l7.72-7.72 1.47 1.35L5.41 20z\"/>\n",
              "  </svg>\n",
              "      </button>\n",
              "      \n",
              "  <style>\n",
              "    .colab-df-container {\n",
              "      display:flex;\n",
              "      flex-wrap:wrap;\n",
              "      gap: 12px;\n",
              "    }\n",
              "\n",
              "    .colab-df-convert {\n",
              "      background-color: #E8F0FE;\n",
              "      border: none;\n",
              "      border-radius: 50%;\n",
              "      cursor: pointer;\n",
              "      display: none;\n",
              "      fill: #1967D2;\n",
              "      height: 32px;\n",
              "      padding: 0 0 0 0;\n",
              "      width: 32px;\n",
              "    }\n",
              "\n",
              "    .colab-df-convert:hover {\n",
              "      background-color: #E2EBFA;\n",
              "      box-shadow: 0px 1px 2px rgba(60, 64, 67, 0.3), 0px 1px 3px 1px rgba(60, 64, 67, 0.15);\n",
              "      fill: #174EA6;\n",
              "    }\n",
              "\n",
              "    [theme=dark] .colab-df-convert {\n",
              "      background-color: #3B4455;\n",
              "      fill: #D2E3FC;\n",
              "    }\n",
              "\n",
              "    [theme=dark] .colab-df-convert:hover {\n",
              "      background-color: #434B5C;\n",
              "      box-shadow: 0px 1px 3px 1px rgba(0, 0, 0, 0.15);\n",
              "      filter: drop-shadow(0px 1px 2px rgba(0, 0, 0, 0.3));\n",
              "      fill: #FFFFFF;\n",
              "    }\n",
              "  </style>\n",
              "\n",
              "      <script>\n",
              "        const buttonEl =\n",
              "          document.querySelector('#df-7e8fe3a2-3978-4429-8a40-704fba390563 button.colab-df-convert');\n",
              "        buttonEl.style.display =\n",
              "          google.colab.kernel.accessAllowed ? 'block' : 'none';\n",
              "\n",
              "        async function convertToInteractive(key) {\n",
              "          const element = document.querySelector('#df-7e8fe3a2-3978-4429-8a40-704fba390563');\n",
              "          const dataTable =\n",
              "            await google.colab.kernel.invokeFunction('convertToInteractive',\n",
              "                                                     [key], {});\n",
              "          if (!dataTable) return;\n",
              "\n",
              "          const docLinkHtml = 'Like what you see? Visit the ' +\n",
              "            '<a target=\"_blank\" href=https://colab.research.google.com/notebooks/data_table.ipynb>data table notebook</a>'\n",
              "            + ' to learn more about interactive tables.';\n",
              "          element.innerHTML = '';\n",
              "          dataTable['output_type'] = 'display_data';\n",
              "          await google.colab.output.renderOutput(dataTable, element);\n",
              "          const docLink = document.createElement('div');\n",
              "          docLink.innerHTML = docLinkHtml;\n",
              "          element.appendChild(docLink);\n",
              "        }\n",
              "      </script>\n",
              "    </div>\n",
              "  </div>\n",
              "  "
            ],
            "text/plain": [
              "   RowNumber  CustomerId   Surname  CreditScore Geography  Gender  Age  \\\n",
              "0          1    15634602  Hargrave          619    France  Female   42   \n",
              "1          2    15647311      Hill          608     Spain  Female   41   \n",
              "2          3    15619304      Onio          502    France  Female   42   \n",
              "3          4    15701354      Boni          699    France  Female   39   \n",
              "4          5    15737888  Mitchell          850     Spain  Female   43   \n",
              "\n",
              "   Tenure    Balance  NumOfProducts  HasCrCard  IsActiveMember  \\\n",
              "0       2       0.00              1          1               1   \n",
              "1       1   83807.86              1          0               1   \n",
              "2       8  159660.80              3          1               0   \n",
              "3       1       0.00              2          0               0   \n",
              "4       2  125510.82              1          1               1   \n",
              "\n",
              "   EstimatedSalary  Exited  \n",
              "0        101348.88       1  \n",
              "1        112542.58       0  \n",
              "2        113931.57       1  \n",
              "3         93826.63       0  \n",
              "4         79084.10       0  "
            ]
          },
          "execution_count": 6,
          "metadata": {},
          "output_type": "execute_result"
        }
      ],
      "source": [
        "df.head()"
      ]
    },
    {
      "cell_type": "code",
      "execution_count": null,
      "metadata": {
        "colab": {
          "base_uri": "https://localhost:8080/"
        },
        "id": "c1fIZnSiuMu6",
        "outputId": "37060a2d-a96e-4eb3-8411-7dce0041ae7d"
      },
      "outputs": [
        {
          "name": "stdout",
          "output_type": "stream",
          "text": [
            "<class 'pandas.core.frame.DataFrame'>\n",
            "RangeIndex: 10000 entries, 0 to 9999\n",
            "Data columns (total 14 columns):\n",
            " #   Column           Non-Null Count  Dtype  \n",
            "---  ------           --------------  -----  \n",
            " 0   RowNumber        10000 non-null  int64  \n",
            " 1   CustomerId       10000 non-null  int64  \n",
            " 2   Surname          10000 non-null  object \n",
            " 3   CreditScore      10000 non-null  int64  \n",
            " 4   Geography        10000 non-null  object \n",
            " 5   Gender           10000 non-null  object \n",
            " 6   Age              10000 non-null  int64  \n",
            " 7   Tenure           10000 non-null  int64  \n",
            " 8   Balance          10000 non-null  float64\n",
            " 9   NumOfProducts    10000 non-null  int64  \n",
            " 10  HasCrCard        10000 non-null  int64  \n",
            " 11  IsActiveMember   10000 non-null  int64  \n",
            " 12  EstimatedSalary  10000 non-null  float64\n",
            " 13  Exited           10000 non-null  int64  \n",
            "dtypes: float64(2), int64(9), object(3)\n",
            "memory usage: 1.1+ MB\n"
          ]
        }
      ],
      "source": [
        "df.info()"
      ]
    },
    {
      "cell_type": "markdown",
      "metadata": {
        "id": "UG5w0PDEUsb0"
      },
      "source": [
        "# Handle the Missing values\n"
      ]
    },
    {
      "cell_type": "code",
      "execution_count": null,
      "metadata": {
        "colab": {
          "base_uri": "https://localhost:8080/"
        },
        "id": "x40d9-JPuZOr",
        "outputId": "f8dfee91-d860-483a-86c8-72749aa58aab"
      },
      "outputs": [
        {
          "data": {
            "text/plain": [
              "RowNumber          0\n",
              "CustomerId         0\n",
              "Surname            0\n",
              "CreditScore        0\n",
              "Geography          0\n",
              "Gender             0\n",
              "Age                0\n",
              "Tenure             0\n",
              "Balance            0\n",
              "NumOfProducts      0\n",
              "HasCrCard          0\n",
              "IsActiveMember     0\n",
              "EstimatedSalary    0\n",
              "Exited             0\n",
              "dtype: int64"
            ]
          },
          "execution_count": 8,
          "metadata": {},
          "output_type": "execute_result"
        }
      ],
      "source": [
        "df.isnull().sum()"
      ]
    },
    {
      "cell_type": "markdown",
      "metadata": {
        "id": "50RCzvZKUyLc"
      },
      "source": [
        "#4. Perform descriptive statistics on the dataset."
      ]
    },
    {
      "cell_type": "code",
      "execution_count": null,
      "metadata": {
        "colab": {
          "base_uri": "https://localhost:8080/",
          "height": 301
        },
        "id": "bH4F1iTcU1T6",
        "outputId": "bbc28928-ba04-4d73-de98-e57e2b8f7664"
      },
      "outputs": [
        {
          "data": {
            "text/html": [
              "\n",
              "  <div id=\"df-8f991197-89d2-4b70-a385-eae6a887f40f\">\n",
              "    <div class=\"colab-df-container\">\n",
              "      <div>\n",
              "<style scoped>\n",
              "    .dataframe tbody tr th:only-of-type {\n",
              "        vertical-align: middle;\n",
              "    }\n",
              "\n",
              "    .dataframe tbody tr th {\n",
              "        vertical-align: top;\n",
              "    }\n",
              "\n",
              "    .dataframe thead th {\n",
              "        text-align: right;\n",
              "    }\n",
              "</style>\n",
              "<table border=\"1\" class=\"dataframe\">\n",
              "  <thead>\n",
              "    <tr style=\"text-align: right;\">\n",
              "      <th></th>\n",
              "      <th>RowNumber</th>\n",
              "      <th>CustomerId</th>\n",
              "      <th>CreditScore</th>\n",
              "      <th>Age</th>\n",
              "      <th>Tenure</th>\n",
              "      <th>Balance</th>\n",
              "      <th>NumOfProducts</th>\n",
              "      <th>HasCrCard</th>\n",
              "      <th>IsActiveMember</th>\n",
              "      <th>EstimatedSalary</th>\n",
              "      <th>Exited</th>\n",
              "    </tr>\n",
              "  </thead>\n",
              "  <tbody>\n",
              "    <tr>\n",
              "      <th>count</th>\n",
              "      <td>10000.00000</td>\n",
              "      <td>1.000000e+04</td>\n",
              "      <td>10000.000000</td>\n",
              "      <td>10000.000000</td>\n",
              "      <td>10000.000000</td>\n",
              "      <td>10000.000000</td>\n",
              "      <td>10000.000000</td>\n",
              "      <td>10000.00000</td>\n",
              "      <td>10000.000000</td>\n",
              "      <td>10000.000000</td>\n",
              "      <td>10000.000000</td>\n",
              "    </tr>\n",
              "    <tr>\n",
              "      <th>mean</th>\n",
              "      <td>5000.50000</td>\n",
              "      <td>1.569094e+07</td>\n",
              "      <td>650.528800</td>\n",
              "      <td>38.921800</td>\n",
              "      <td>5.012800</td>\n",
              "      <td>76485.889288</td>\n",
              "      <td>1.530200</td>\n",
              "      <td>0.70550</td>\n",
              "      <td>0.515100</td>\n",
              "      <td>100090.239881</td>\n",
              "      <td>0.203700</td>\n",
              "    </tr>\n",
              "    <tr>\n",
              "      <th>std</th>\n",
              "      <td>2886.89568</td>\n",
              "      <td>7.193619e+04</td>\n",
              "      <td>96.653299</td>\n",
              "      <td>10.487806</td>\n",
              "      <td>2.892174</td>\n",
              "      <td>62397.405202</td>\n",
              "      <td>0.581654</td>\n",
              "      <td>0.45584</td>\n",
              "      <td>0.499797</td>\n",
              "      <td>57510.492818</td>\n",
              "      <td>0.402769</td>\n",
              "    </tr>\n",
              "    <tr>\n",
              "      <th>min</th>\n",
              "      <td>1.00000</td>\n",
              "      <td>1.556570e+07</td>\n",
              "      <td>350.000000</td>\n",
              "      <td>18.000000</td>\n",
              "      <td>0.000000</td>\n",
              "      <td>0.000000</td>\n",
              "      <td>1.000000</td>\n",
              "      <td>0.00000</td>\n",
              "      <td>0.000000</td>\n",
              "      <td>11.580000</td>\n",
              "      <td>0.000000</td>\n",
              "    </tr>\n",
              "    <tr>\n",
              "      <th>25%</th>\n",
              "      <td>2500.75000</td>\n",
              "      <td>1.562853e+07</td>\n",
              "      <td>584.000000</td>\n",
              "      <td>32.000000</td>\n",
              "      <td>3.000000</td>\n",
              "      <td>0.000000</td>\n",
              "      <td>1.000000</td>\n",
              "      <td>0.00000</td>\n",
              "      <td>0.000000</td>\n",
              "      <td>51002.110000</td>\n",
              "      <td>0.000000</td>\n",
              "    </tr>\n",
              "    <tr>\n",
              "      <th>50%</th>\n",
              "      <td>5000.50000</td>\n",
              "      <td>1.569074e+07</td>\n",
              "      <td>652.000000</td>\n",
              "      <td>37.000000</td>\n",
              "      <td>5.000000</td>\n",
              "      <td>97198.540000</td>\n",
              "      <td>1.000000</td>\n",
              "      <td>1.00000</td>\n",
              "      <td>1.000000</td>\n",
              "      <td>100193.915000</td>\n",
              "      <td>0.000000</td>\n",
              "    </tr>\n",
              "    <tr>\n",
              "      <th>75%</th>\n",
              "      <td>7500.25000</td>\n",
              "      <td>1.575323e+07</td>\n",
              "      <td>718.000000</td>\n",
              "      <td>44.000000</td>\n",
              "      <td>7.000000</td>\n",
              "      <td>127644.240000</td>\n",
              "      <td>2.000000</td>\n",
              "      <td>1.00000</td>\n",
              "      <td>1.000000</td>\n",
              "      <td>149388.247500</td>\n",
              "      <td>0.000000</td>\n",
              "    </tr>\n",
              "    <tr>\n",
              "      <th>max</th>\n",
              "      <td>10000.00000</td>\n",
              "      <td>1.581569e+07</td>\n",
              "      <td>850.000000</td>\n",
              "      <td>92.000000</td>\n",
              "      <td>10.000000</td>\n",
              "      <td>250898.090000</td>\n",
              "      <td>4.000000</td>\n",
              "      <td>1.00000</td>\n",
              "      <td>1.000000</td>\n",
              "      <td>199992.480000</td>\n",
              "      <td>1.000000</td>\n",
              "    </tr>\n",
              "  </tbody>\n",
              "</table>\n",
              "</div>\n",
              "      <button class=\"colab-df-convert\" onclick=\"convertToInteractive('df-8f991197-89d2-4b70-a385-eae6a887f40f')\"\n",
              "              title=\"Convert this dataframe to an interactive table.\"\n",
              "              style=\"display:none;\">\n",
              "        \n",
              "  <svg xmlns=\"http://www.w3.org/2000/svg\" height=\"24px\"viewBox=\"0 0 24 24\"\n",
              "       width=\"24px\">\n",
              "    <path d=\"M0 0h24v24H0V0z\" fill=\"none\"/>\n",
              "    <path d=\"M18.56 5.44l.94 2.06.94-2.06 2.06-.94-2.06-.94-.94-2.06-.94 2.06-2.06.94zm-11 1L8.5 8.5l.94-2.06 2.06-.94-2.06-.94L8.5 2.5l-.94 2.06-2.06.94zm10 10l.94 2.06.94-2.06 2.06-.94-2.06-.94-.94-2.06-.94 2.06-2.06.94z\"/><path d=\"M17.41 7.96l-1.37-1.37c-.4-.4-.92-.59-1.43-.59-.52 0-1.04.2-1.43.59L10.3 9.45l-7.72 7.72c-.78.78-.78 2.05 0 2.83L4 21.41c.39.39.9.59 1.41.59.51 0 1.02-.2 1.41-.59l7.78-7.78 2.81-2.81c.8-.78.8-2.07 0-2.86zM5.41 20L4 18.59l7.72-7.72 1.47 1.35L5.41 20z\"/>\n",
              "  </svg>\n",
              "      </button>\n",
              "      \n",
              "  <style>\n",
              "    .colab-df-container {\n",
              "      display:flex;\n",
              "      flex-wrap:wrap;\n",
              "      gap: 12px;\n",
              "    }\n",
              "\n",
              "    .colab-df-convert {\n",
              "      background-color: #E8F0FE;\n",
              "      border: none;\n",
              "      border-radius: 50%;\n",
              "      cursor: pointer;\n",
              "      display: none;\n",
              "      fill: #1967D2;\n",
              "      height: 32px;\n",
              "      padding: 0 0 0 0;\n",
              "      width: 32px;\n",
              "    }\n",
              "\n",
              "    .colab-df-convert:hover {\n",
              "      background-color: #E2EBFA;\n",
              "      box-shadow: 0px 1px 2px rgba(60, 64, 67, 0.3), 0px 1px 3px 1px rgba(60, 64, 67, 0.15);\n",
              "      fill: #174EA6;\n",
              "    }\n",
              "\n",
              "    [theme=dark] .colab-df-convert {\n",
              "      background-color: #3B4455;\n",
              "      fill: #D2E3FC;\n",
              "    }\n",
              "\n",
              "    [theme=dark] .colab-df-convert:hover {\n",
              "      background-color: #434B5C;\n",
              "      box-shadow: 0px 1px 3px 1px rgba(0, 0, 0, 0.15);\n",
              "      filter: drop-shadow(0px 1px 2px rgba(0, 0, 0, 0.3));\n",
              "      fill: #FFFFFF;\n",
              "    }\n",
              "  </style>\n",
              "\n",
              "      <script>\n",
              "        const buttonEl =\n",
              "          document.querySelector('#df-8f991197-89d2-4b70-a385-eae6a887f40f button.colab-df-convert');\n",
              "        buttonEl.style.display =\n",
              "          google.colab.kernel.accessAllowed ? 'block' : 'none';\n",
              "\n",
              "        async function convertToInteractive(key) {\n",
              "          const element = document.querySelector('#df-8f991197-89d2-4b70-a385-eae6a887f40f');\n",
              "          const dataTable =\n",
              "            await google.colab.kernel.invokeFunction('convertToInteractive',\n",
              "                                                     [key], {});\n",
              "          if (!dataTable) return;\n",
              "\n",
              "          const docLinkHtml = 'Like what you see? Visit the ' +\n",
              "            '<a target=\"_blank\" href=https://colab.research.google.com/notebooks/data_table.ipynb>data table notebook</a>'\n",
              "            + ' to learn more about interactive tables.';\n",
              "          element.innerHTML = '';\n",
              "          dataTable['output_type'] = 'display_data';\n",
              "          await google.colab.output.renderOutput(dataTable, element);\n",
              "          const docLink = document.createElement('div');\n",
              "          docLink.innerHTML = docLinkHtml;\n",
              "          element.appendChild(docLink);\n",
              "        }\n",
              "      </script>\n",
              "    </div>\n",
              "  </div>\n",
              "  "
            ],
            "text/plain": [
              "         RowNumber    CustomerId   CreditScore           Age        Tenure  \\\n",
              "count  10000.00000  1.000000e+04  10000.000000  10000.000000  10000.000000   \n",
              "mean    5000.50000  1.569094e+07    650.528800     38.921800      5.012800   \n",
              "std     2886.89568  7.193619e+04     96.653299     10.487806      2.892174   \n",
              "min        1.00000  1.556570e+07    350.000000     18.000000      0.000000   \n",
              "25%     2500.75000  1.562853e+07    584.000000     32.000000      3.000000   \n",
              "50%     5000.50000  1.569074e+07    652.000000     37.000000      5.000000   \n",
              "75%     7500.25000  1.575323e+07    718.000000     44.000000      7.000000   \n",
              "max    10000.00000  1.581569e+07    850.000000     92.000000     10.000000   \n",
              "\n",
              "             Balance  NumOfProducts    HasCrCard  IsActiveMember  \\\n",
              "count   10000.000000   10000.000000  10000.00000    10000.000000   \n",
              "mean    76485.889288       1.530200      0.70550        0.515100   \n",
              "std     62397.405202       0.581654      0.45584        0.499797   \n",
              "min         0.000000       1.000000      0.00000        0.000000   \n",
              "25%         0.000000       1.000000      0.00000        0.000000   \n",
              "50%     97198.540000       1.000000      1.00000        1.000000   \n",
              "75%    127644.240000       2.000000      1.00000        1.000000   \n",
              "max    250898.090000       4.000000      1.00000        1.000000   \n",
              "\n",
              "       EstimatedSalary        Exited  \n",
              "count     10000.000000  10000.000000  \n",
              "mean     100090.239881      0.203700  \n",
              "std       57510.492818      0.402769  \n",
              "min          11.580000      0.000000  \n",
              "25%       51002.110000      0.000000  \n",
              "50%      100193.915000      0.000000  \n",
              "75%      149388.247500      0.000000  \n",
              "max      199992.480000      1.000000  "
            ]
          },
          "execution_count": 18,
          "metadata": {},
          "output_type": "execute_result"
        }
      ],
      "source": [
        "df.describe()"
      ]
    },
    {
      "cell_type": "code",
      "execution_count": null,
      "metadata": {
        "colab": {
          "base_uri": "https://localhost:8080/"
        },
        "id": "x5ZlXPTJuch4",
        "outputId": "ada6de20-ab31-4cd2-e617-a1c223984387"
      },
      "outputs": [
        {
          "data": {
            "text/plain": [
              "France     5014\n",
              "Germany    2509\n",
              "Spain      2477\n",
              "Name: Geography, dtype: int64"
            ]
          },
          "execution_count": 9,
          "metadata": {},
          "output_type": "execute_result"
        }
      ],
      "source": [
        "df['Geography'].value_counts()"
      ]
    },
    {
      "cell_type": "markdown",
      "metadata": {
        "id": "emBkjCdyFohb"
      },
      "source": [
        "#7. Check for Categorical columns and perform encoding."
      ]
    },
    {
      "cell_type": "code",
      "execution_count": 4,
      "metadata": {
        "id": "xTrmKrWNv1gw"
      },
      "outputs": [],
      "source": [
        "from sklearn.preprocessing import LabelEncoder\n",
        "la=LabelEncoder()"
      ]
    },
    {
      "cell_type": "code",
      "execution_count": 5,
      "metadata": {
        "id": "NOnb29dIwKZS"
      },
      "outputs": [],
      "source": [
        "df['Geography']=la.fit_transform(df['Geography'])"
      ]
    },
    {
      "cell_type": "code",
      "execution_count": null,
      "metadata": {
        "colab": {
          "base_uri": "https://localhost:8080/"
        },
        "id": "yvWJOdv9vJre",
        "outputId": "037eb433-9a92-4d5e-9873-0710ac3bf3db"
      },
      "outputs": [
        {
          "data": {
            "text/plain": [
              "Smith       32\n",
              "Scott       29\n",
              "Martin      29\n",
              "Walker      28\n",
              "Brown       26\n",
              "            ..\n",
              "Izmailov     1\n",
              "Bold         1\n",
              "Bonham       1\n",
              "Poninski     1\n",
              "Burbidge     1\n",
              "Name: Surname, Length: 2932, dtype: int64"
            ]
          },
          "execution_count": 31,
          "metadata": {},
          "output_type": "execute_result"
        }
      ],
      "source": [
        "df['Surname'].value_counts()"
      ]
    },
    {
      "cell_type": "code",
      "execution_count": 6,
      "metadata": {
        "id": "D0aBNFcJwjS_"
      },
      "outputs": [],
      "source": [
        "df['Surname']=la.fit_transform(df['Surname'])"
      ]
    },
    {
      "cell_type": "code",
      "execution_count": null,
      "metadata": {
        "colab": {
          "base_uri": "https://localhost:8080/"
        },
        "id": "3OSlzoVFvQmf",
        "outputId": "1eda49f7-0167-4dfe-9407-999c8001c5f0"
      },
      "outputs": [
        {
          "data": {
            "text/plain": [
              "Male      5457\n",
              "Female    4543\n",
              "Name: Gender, dtype: int64"
            ]
          },
          "execution_count": 33,
          "metadata": {},
          "output_type": "execute_result"
        }
      ],
      "source": [
        "df['Gender'].value_counts()"
      ]
    },
    {
      "cell_type": "code",
      "execution_count": 7,
      "metadata": {
        "id": "JCZJiXiAvyzy"
      },
      "outputs": [],
      "source": [
        "df['Gender']=la.fit_transform(df['Gender'])"
      ]
    },
    {
      "cell_type": "code",
      "execution_count": 8,
      "metadata": {
        "colab": {
          "base_uri": "https://localhost:8080/",
          "height": 270
        },
        "id": "6cBx1En7wzQD",
        "outputId": "b9aaa4dc-da9a-4203-d051-f0a20ffc1b84"
      },
      "outputs": [
        {
          "data": {
            "text/html": [
              "\n",
              "  <div id=\"df-3ef8e5f2-e11e-420a-b054-f1bcca8e5060\">\n",
              "    <div class=\"colab-df-container\">\n",
              "      <div>\n",
              "<style scoped>\n",
              "    .dataframe tbody tr th:only-of-type {\n",
              "        vertical-align: middle;\n",
              "    }\n",
              "\n",
              "    .dataframe tbody tr th {\n",
              "        vertical-align: top;\n",
              "    }\n",
              "\n",
              "    .dataframe thead th {\n",
              "        text-align: right;\n",
              "    }\n",
              "</style>\n",
              "<table border=\"1\" class=\"dataframe\">\n",
              "  <thead>\n",
              "    <tr style=\"text-align: right;\">\n",
              "      <th></th>\n",
              "      <th>RowNumber</th>\n",
              "      <th>CustomerId</th>\n",
              "      <th>Surname</th>\n",
              "      <th>CreditScore</th>\n",
              "      <th>Geography</th>\n",
              "      <th>Gender</th>\n",
              "      <th>Age</th>\n",
              "      <th>Tenure</th>\n",
              "      <th>Balance</th>\n",
              "      <th>NumOfProducts</th>\n",
              "      <th>HasCrCard</th>\n",
              "      <th>IsActiveMember</th>\n",
              "      <th>EstimatedSalary</th>\n",
              "      <th>Exited</th>\n",
              "    </tr>\n",
              "  </thead>\n",
              "  <tbody>\n",
              "    <tr>\n",
              "      <th>0</th>\n",
              "      <td>1</td>\n",
              "      <td>15634602</td>\n",
              "      <td>1115</td>\n",
              "      <td>619</td>\n",
              "      <td>0</td>\n",
              "      <td>0</td>\n",
              "      <td>42</td>\n",
              "      <td>2</td>\n",
              "      <td>0.00</td>\n",
              "      <td>1</td>\n",
              "      <td>1</td>\n",
              "      <td>1</td>\n",
              "      <td>101348.88</td>\n",
              "      <td>1</td>\n",
              "    </tr>\n",
              "    <tr>\n",
              "      <th>1</th>\n",
              "      <td>2</td>\n",
              "      <td>15647311</td>\n",
              "      <td>1177</td>\n",
              "      <td>608</td>\n",
              "      <td>2</td>\n",
              "      <td>0</td>\n",
              "      <td>41</td>\n",
              "      <td>1</td>\n",
              "      <td>83807.86</td>\n",
              "      <td>1</td>\n",
              "      <td>0</td>\n",
              "      <td>1</td>\n",
              "      <td>112542.58</td>\n",
              "      <td>0</td>\n",
              "    </tr>\n",
              "    <tr>\n",
              "      <th>2</th>\n",
              "      <td>3</td>\n",
              "      <td>15619304</td>\n",
              "      <td>2040</td>\n",
              "      <td>502</td>\n",
              "      <td>0</td>\n",
              "      <td>0</td>\n",
              "      <td>42</td>\n",
              "      <td>8</td>\n",
              "      <td>159660.80</td>\n",
              "      <td>3</td>\n",
              "      <td>1</td>\n",
              "      <td>0</td>\n",
              "      <td>113931.57</td>\n",
              "      <td>1</td>\n",
              "    </tr>\n",
              "    <tr>\n",
              "      <th>3</th>\n",
              "      <td>4</td>\n",
              "      <td>15701354</td>\n",
              "      <td>289</td>\n",
              "      <td>699</td>\n",
              "      <td>0</td>\n",
              "      <td>0</td>\n",
              "      <td>39</td>\n",
              "      <td>1</td>\n",
              "      <td>0.00</td>\n",
              "      <td>2</td>\n",
              "      <td>0</td>\n",
              "      <td>0</td>\n",
              "      <td>93826.63</td>\n",
              "      <td>0</td>\n",
              "    </tr>\n",
              "    <tr>\n",
              "      <th>4</th>\n",
              "      <td>5</td>\n",
              "      <td>15737888</td>\n",
              "      <td>1822</td>\n",
              "      <td>850</td>\n",
              "      <td>2</td>\n",
              "      <td>0</td>\n",
              "      <td>43</td>\n",
              "      <td>2</td>\n",
              "      <td>125510.82</td>\n",
              "      <td>1</td>\n",
              "      <td>1</td>\n",
              "      <td>1</td>\n",
              "      <td>79084.10</td>\n",
              "      <td>0</td>\n",
              "    </tr>\n",
              "  </tbody>\n",
              "</table>\n",
              "</div>\n",
              "      <button class=\"colab-df-convert\" onclick=\"convertToInteractive('df-3ef8e5f2-e11e-420a-b054-f1bcca8e5060')\"\n",
              "              title=\"Convert this dataframe to an interactive table.\"\n",
              "              style=\"display:none;\">\n",
              "        \n",
              "  <svg xmlns=\"http://www.w3.org/2000/svg\" height=\"24px\"viewBox=\"0 0 24 24\"\n",
              "       width=\"24px\">\n",
              "    <path d=\"M0 0h24v24H0V0z\" fill=\"none\"/>\n",
              "    <path d=\"M18.56 5.44l.94 2.06.94-2.06 2.06-.94-2.06-.94-.94-2.06-.94 2.06-2.06.94zm-11 1L8.5 8.5l.94-2.06 2.06-.94-2.06-.94L8.5 2.5l-.94 2.06-2.06.94zm10 10l.94 2.06.94-2.06 2.06-.94-2.06-.94-.94-2.06-.94 2.06-2.06.94z\"/><path d=\"M17.41 7.96l-1.37-1.37c-.4-.4-.92-.59-1.43-.59-.52 0-1.04.2-1.43.59L10.3 9.45l-7.72 7.72c-.78.78-.78 2.05 0 2.83L4 21.41c.39.39.9.59 1.41.59.51 0 1.02-.2 1.41-.59l7.78-7.78 2.81-2.81c.8-.78.8-2.07 0-2.86zM5.41 20L4 18.59l7.72-7.72 1.47 1.35L5.41 20z\"/>\n",
              "  </svg>\n",
              "      </button>\n",
              "      \n",
              "  <style>\n",
              "    .colab-df-container {\n",
              "      display:flex;\n",
              "      flex-wrap:wrap;\n",
              "      gap: 12px;\n",
              "    }\n",
              "\n",
              "    .colab-df-convert {\n",
              "      background-color: #E8F0FE;\n",
              "      border: none;\n",
              "      border-radius: 50%;\n",
              "      cursor: pointer;\n",
              "      display: none;\n",
              "      fill: #1967D2;\n",
              "      height: 32px;\n",
              "      padding: 0 0 0 0;\n",
              "      width: 32px;\n",
              "    }\n",
              "\n",
              "    .colab-df-convert:hover {\n",
              "      background-color: #E2EBFA;\n",
              "      box-shadow: 0px 1px 2px rgba(60, 64, 67, 0.3), 0px 1px 3px 1px rgba(60, 64, 67, 0.15);\n",
              "      fill: #174EA6;\n",
              "    }\n",
              "\n",
              "    [theme=dark] .colab-df-convert {\n",
              "      background-color: #3B4455;\n",
              "      fill: #D2E3FC;\n",
              "    }\n",
              "\n",
              "    [theme=dark] .colab-df-convert:hover {\n",
              "      background-color: #434B5C;\n",
              "      box-shadow: 0px 1px 3px 1px rgba(0, 0, 0, 0.15);\n",
              "      filter: drop-shadow(0px 1px 2px rgba(0, 0, 0, 0.3));\n",
              "      fill: #FFFFFF;\n",
              "    }\n",
              "  </style>\n",
              "\n",
              "      <script>\n",
              "        const buttonEl =\n",
              "          document.querySelector('#df-3ef8e5f2-e11e-420a-b054-f1bcca8e5060 button.colab-df-convert');\n",
              "        buttonEl.style.display =\n",
              "          google.colab.kernel.accessAllowed ? 'block' : 'none';\n",
              "\n",
              "        async function convertToInteractive(key) {\n",
              "          const element = document.querySelector('#df-3ef8e5f2-e11e-420a-b054-f1bcca8e5060');\n",
              "          const dataTable =\n",
              "            await google.colab.kernel.invokeFunction('convertToInteractive',\n",
              "                                                     [key], {});\n",
              "          if (!dataTable) return;\n",
              "\n",
              "          const docLinkHtml = 'Like what you see? Visit the ' +\n",
              "            '<a target=\"_blank\" href=https://colab.research.google.com/notebooks/data_table.ipynb>data table notebook</a>'\n",
              "            + ' to learn more about interactive tables.';\n",
              "          element.innerHTML = '';\n",
              "          dataTable['output_type'] = 'display_data';\n",
              "          await google.colab.output.renderOutput(dataTable, element);\n",
              "          const docLink = document.createElement('div');\n",
              "          docLink.innerHTML = docLinkHtml;\n",
              "          element.appendChild(docLink);\n",
              "        }\n",
              "      </script>\n",
              "    </div>\n",
              "  </div>\n",
              "  "
            ],
            "text/plain": [
              "   RowNumber  CustomerId  Surname  CreditScore  Geography  Gender  Age  \\\n",
              "0          1    15634602     1115          619          0       0   42   \n",
              "1          2    15647311     1177          608          2       0   41   \n",
              "2          3    15619304     2040          502          0       0   42   \n",
              "3          4    15701354      289          699          0       0   39   \n",
              "4          5    15737888     1822          850          2       0   43   \n",
              "\n",
              "   Tenure    Balance  NumOfProducts  HasCrCard  IsActiveMember  \\\n",
              "0       2       0.00              1          1               1   \n",
              "1       1   83807.86              1          0               1   \n",
              "2       8  159660.80              3          1               0   \n",
              "3       1       0.00              2          0               0   \n",
              "4       2  125510.82              1          1               1   \n",
              "\n",
              "   EstimatedSalary  Exited  \n",
              "0        101348.88       1  \n",
              "1        112542.58       0  \n",
              "2        113931.57       1  \n",
              "3         93826.63       0  \n",
              "4         79084.10       0  "
            ]
          },
          "execution_count": 8,
          "metadata": {},
          "output_type": "execute_result"
        }
      ],
      "source": [
        "df.head()"
      ]
    },
    {
      "cell_type": "markdown",
      "metadata": {
        "id": "fmy4eNafGaUj"
      },
      "source": [
        "#3. Perform Below Visualizations.\n",
        "● Univariate Analysis\n",
        "● Bi - Variate Analysis\n",
        "● Multi - Variate Analysis"
      ]
    },
    {
      "cell_type": "code",
      "execution_count": null,
      "metadata": {
        "id": "TtJndB5-w0tF"
      },
      "outputs": [],
      "source": [
        "import matplotlib.pyplot as plt\n",
        "import seaborn as sns"
      ]
    },
    {
      "cell_type": "markdown",
      "metadata": {
        "id": "KxP-ObonQzGH"
      },
      "source": [
        "#univariante analysis\n"
      ]
    },
    {
      "cell_type": "code",
      "execution_count": null,
      "metadata": {
        "colab": {
          "base_uri": "https://localhost:8080/",
          "height": 387
        },
        "id": "EbLqrLozQ2YC",
        "outputId": "a8830039-9840-47fc-c37e-b9bf0134866f"
      },
      "outputs": [
        {
          "data": {
            "text/plain": [
              "<seaborn.axisgrid.FacetGrid at 0x7f4d13926250>"
            ]
          },
          "execution_count": 9,
          "metadata": {},
          "output_type": "execute_result"
        },
        {
          "data": {
            "image/png": "[encoded data removed]",
            "text/plain": [
              "<Figure size 360x360 with 1 Axes>"
            ]
          },
          "metadata": {},
          "output_type": "display_data"
        }
      ],
      "source": [
        "sns.displot(df['Age'])"
      ]
    },
    {
      "cell_type": "markdown",
      "metadata": {
        "id": "uohRbBBLRL4K"
      },
      "source": [
        "#bivariate analysis"
      ]
    },
    {
      "cell_type": "code",
      "execution_count": null,
      "metadata": {
        "colab": {
          "base_uri": "https://localhost:8080/",
          "height": 354
        },
        "id": "MjnScY7zRO_b",
        "outputId": "593640d7-5a4a-43ef-fa32-cb47bda6df3e"
      },
      "outputs": [
        {
          "name": "stderr",
          "output_type": "stream",
          "text": [
            "/usr/local/lib/python3.7/dist-packages/seaborn/_decorators.py:43: FutureWarning: Pass the following variables as keyword args: x, y. From version 0.12, the only valid positional argument will be `data`, and passing other arguments without an explicit keyword will result in an error or misinterpretation.\n",
            "  FutureWarning\n"
          ]
        },
        {
          "data": {
            "text/plain": [
              "<matplotlib.axes._subplots.AxesSubplot at 0x7f4d137c66d0>"
            ]
          },
          "execution_count": 14,
          "metadata": {},
          "output_type": "execute_result"
        },
        {
          "data": {
            "image/png": "[encoded data removed]",
            "text/plain": [
              "<Figure size 432x288 with 1 Axes>"
            ]
          },
          "metadata": {},
          "output_type": "display_data"
        }
      ],
      "source": [
        "sns.scatterplot(df['Tenure'],df['Age'])"
      ]
    },
    {
      "cell_type": "markdown",
      "metadata": {
        "id": "T7X8D_1fTFRU"
      },
      "source": [
        "#multivariate analysis"
      ]
    },
    {
      "cell_type": "code",
      "execution_count": null,
      "metadata": {
        "colab": {
          "base_uri": "https://localhost:8080/",
          "height": 300
        },
        "id": "J0YRuttfTIKG",
        "outputId": "a1d0e93f-81d7-4274-ac18-12ffbadd7214"
      },
      "outputs": [
        {
          "data": {
            "text/plain": [
              "[<matplotlib.lines.Line2D at 0x7f4d10398450>,\n",
              " <matplotlib.lines.Line2D at 0x7f4d103985d0>]"
            ]
          },
          "execution_count": 17,
          "metadata": {},
          "output_type": "execute_result"
        },
        {
          "data": {
            "image/png": "[encoded data removed]",
            "text/plain": [
              "<Figure size 432x288 with 1 Axes>"
            ]
          },
          "metadata": {},
          "output_type": "display_data"
        }
      ],
      "source": [
        "sns.jointplot(x='Age',y='Tenure',data=df)"
      ]
    },
    {
      "cell_type": "markdown",
      "metadata": {
        "id": "RalG032nVJwU"
      },
      "source": [
        "#Finding outliers and replacing it\n"
      ]
    },
    {
      "cell_type": "code",
      "execution_count": null,
      "metadata": {
        "colab": {
          "base_uri": "https://localhost:8080/",
          "height": 270
        },
        "id": "3ce3UsHDVMqq",
        "outputId": "eb6e4efa-415e-4773-c620-1c9c2086c35c"
      },
      "outputs": [
        {
          "data": {
            "text/plain": [
              "<matplotlib.axes._subplots.AxesSubplot at 0x7f9385510490>"
            ]
          },
          "execution_count": 42,
          "metadata": {},
          "output_type": "execute_result"
        },
        {
          "data": {
            "image/png": "[encoded data removed]",
            "text/plain": [
              "<Figure size 432x288 with 1 Axes>"
            ]
          },
          "metadata": {},
          "output_type": "display_data"
        }
      ],
      "source": [
        "sns.boxplot(y='Age',data=df)"
      ]
    },
    {
      "cell_type": "code",
      "execution_count": null,
      "metadata": {
        "colab": {
          "base_uri": "https://localhost:8080/"
        },
        "id": "oCueHS7l_PdH",
        "outputId": "4bb645c1-ba10-4807-8e72-fdd707395578"
      },
      "outputs": [
        {
          "data": {
            "text/plain": [
              "38.9218"
            ]
          },
          "execution_count": 40,
          "metadata": {},
          "output_type": "execute_result"
        }
      ],
      "source": [
        "df['Age'].mean()"
      ]
    },
    {
      "cell_type": "code",
      "execution_count": null,
      "metadata": {
        "colab": {
          "base_uri": "https://localhost:8080/",
          "height": 270
        },
        "id": "gx9ZtQ0__Y-o",
        "outputId": "0c7cd122-01bb-4c77-8ae2-cb2a819a3180"
      },
      "outputs": [
        {
          "data": {
            "text/plain": [
              "<matplotlib.axes._subplots.AxesSubplot at 0x7f93842beed0>"
            ]
          },
          "execution_count": 90,
          "metadata": {},
          "output_type": "execute_result"
        },
        {
          "data": {
            "image/png": "[encoded data removed]",
            "text/plain": [
              "<Figure size 432x288 with 1 Axes>"
            ]
          },
          "metadata": {},
          "output_type": "display_data"
        }
      ],
      "source": [
        "df1=df[df['Age']<58]\n",
        "sns.boxplot(y='Age',data=df1)\n",
        "#df1['Age'].mean()"
      ]
    },
    {
      "cell_type": "code",
      "execution_count": null,
      "metadata": {
        "colab": {
          "base_uri": "https://localhost:8080/",
          "height": 270
        },
        "id": "9VrU-w5t7AsB",
        "outputId": "2905cf57-b67c-44ec-8063-d674b97e646a"
      },
      "outputs": [
        {
          "data": {
            "text/plain": [
              "<matplotlib.axes._subplots.AxesSubplot at 0x7f938567ded0>"
            ]
          },
          "execution_count": 37,
          "metadata": {},
          "output_type": "execute_result"
        },
        {
          "data": {
            "image/png": "[encoded data removed]",
            "text/plain": [
              "<Figure size 432x288 with 1 Axes>"
            ]
          },
          "metadata": {},
          "output_type": "display_data"
        }
      ],
      "source": [
        "sns.boxplot(y='CreditScore',data=df)"
      ]
    },
    {
      "cell_type": "code",
      "execution_count": null,
      "metadata": {
        "colab": {
          "base_uri": "https://localhost:8080/"
        },
        "id": "eKN-o05HBDeB",
        "outputId": "be30d25c-a2ed-4123-aef7-4e7b39e9e027"
      },
      "outputs": [
        {
          "data": {
            "text/plain": [
              "650.5288"
            ]
          },
          "execution_count": 50,
          "metadata": {},
          "output_type": "execute_result"
        }
      ],
      "source": [
        "df['CreditScore'].mean()"
      ]
    },
    {
      "cell_type": "code",
      "execution_count": null,
      "metadata": {
        "colab": {
          "base_uri": "https://localhost:8080/",
          "height": 270
        },
        "id": "M5ZW0U_eBOCY",
        "outputId": "ca57ffc3-1875-4718-cabf-6631874d1ba1"
      },
      "outputs": [
        {
          "data": {
            "text/plain": [
              "<matplotlib.axes._subplots.AxesSubplot at 0x7f938427d2d0>"
            ]
          },
          "execution_count": 91,
          "metadata": {},
          "output_type": "execute_result"
        },
        {
          "data": {
            "image/png": "[encoded data removed]",
            "text/plain": [
              "<Figure size 432x288 with 1 Axes>"
            ]
          },
          "metadata": {},
          "output_type": "display_data"
        }
      ],
      "source": [
        "df1=df[df['CreditScore']>400]\n",
        "sns.boxplot(y='CreditScore',data=df1)\n",
        "#df1['CreditScore'].mean()"
      ]
    },
    {
      "cell_type": "code",
      "execution_count": null,
      "metadata": {
        "colab": {
          "base_uri": "https://localhost:8080/",
          "height": 270
        },
        "id": "tHU9RksR7_sk",
        "outputId": "521a0b2a-1272-4bed-dd6b-f1f8473d17b8"
      },
      "outputs": [
        {
          "data": {
            "text/plain": [
              "<matplotlib.axes._subplots.AxesSubplot at 0x7f93855f7a10>"
            ]
          },
          "execution_count": 38,
          "metadata": {},
          "output_type": "execute_result"
        },
        {
          "data": {
            "image/png": "[encoded data removed]",
            "text/plain": [
              "<Figure size 432x288 with 1 Axes>"
            ]
          },
          "metadata": {},
          "output_type": "display_data"
        }
      ],
      "source": [
        "sns.boxplot(y='NumOfProducts',data=df)"
      ]
    },
    {
      "cell_type": "code",
      "execution_count": null,
      "metadata": {
        "colab": {
          "base_uri": "https://localhost:8080/"
        },
        "id": "jwSYVZ048qEU",
        "outputId": "75aecc41-590e-431a-f53e-8bd47065256f"
      },
      "outputs": [
        {
          "data": {
            "text/plain": [
              "1.5302"
            ]
          },
          "execution_count": 59,
          "metadata": {},
          "output_type": "execute_result"
        }
      ],
      "source": [
        "df['NumOfProducts'].mean()"
      ]
    },
    {
      "cell_type": "code",
      "execution_count": null,
      "metadata": {
        "colab": {
          "base_uri": "https://localhost:8080/",
          "height": 270
        },
        "id": "siXA3yJBCHwn",
        "outputId": "c5370d34-1c91-419f-f9b2-8165ec9e2618"
      },
      "outputs": [
        {
          "data": {
            "text/plain": [
              "<matplotlib.axes._subplots.AxesSubplot at 0x7f938426bc90>"
            ]
          },
          "execution_count": 92,
          "metadata": {},
          "output_type": "execute_result"
        },
        {
          "data": {
            "image/png": "[encoded data removed]",
            "text/plain": [
              "<Figure size 432x288 with 1 Axes>"
            ]
          },
          "metadata": {},
          "output_type": "display_data"
        }
      ],
      "source": [
        "df1=df[df['NumOfProducts']<3.5]\n",
        "sns.boxplot(y='NumOfProducts',data=df1)\n",
        "#df1['NumOfProducts'].mean()"
      ]
    },
    {
      "cell_type": "code",
      "execution_count": null,
      "metadata": {
        "colab": {
          "base_uri": "https://localhost:8080/",
          "height": 297
        },
        "id": "BS58JxXnCtbu",
        "outputId": "9352be59-e8ee-4a87-c3a8-d05d42cd81a7"
      },
      "outputs": [
        {
          "data": {
            "text/plain": [
              "<matplotlib.axes._subplots.AxesSubplot at 0x7f9384464610>"
            ]
          },
          "execution_count": 77,
          "metadata": {},
          "output_type": "execute_result"
        },
        {
          "data": {
            "image/png": "[encoded data removed]",
            "text/plain": [
              "<Figure size 432x288 with 1 Axes>"
            ]
          },
          "metadata": {},
          "output_type": "display_data"
        }
      ],
      "source": [
        "sns.boxplot(x='Exited',data=df)"
      ]
    },
    {
      "cell_type": "code",
      "execution_count": null,
      "metadata": {
        "colab": {
          "base_uri": "https://localhost:8080/"
        },
        "id": "-3Uk_kyMC3WP",
        "outputId": "d80c711b-e441-46ea-b226-a669872e3fc6"
      },
      "outputs": [
        {
          "data": {
            "text/plain": [
              "0.2037"
            ]
          },
          "execution_count": 68,
          "metadata": {},
          "output_type": "execute_result"
        }
      ],
      "source": [
        "df['Exited'].mean()"
      ]
    },
    {
      "cell_type": "code",
      "execution_count": null,
      "metadata": {
        "colab": {
          "base_uri": "https://localhost:8080/",
          "height": 297
        },
        "id": "tcQ43kJNC-qP",
        "outputId": "d8e63275-42d9-490e-a7b6-0c4e9cbddcae"
      },
      "outputs": [
        {
          "data": {
            "text/plain": [
              "<matplotlib.axes._subplots.AxesSubplot at 0x7f9384263710>"
            ]
          },
          "execution_count": 93,
          "metadata": {},
          "output_type": "execute_result"
        },
        {
          "data": {
            "image/png": "[encoded data removed]",
            "text/plain": [
              "<Figure size 432x288 with 1 Axes>"
            ]
          },
          "metadata": {},
          "output_type": "display_data"
        }
      ],
      "source": [
        "df1=df[df['Exited']<0.8]\n",
        "sns.boxplot(x='Exited',data=df1)\n",
        "#df1['Exited'].mean()"
      ]
    },
    {
      "cell_type": "markdown",
      "metadata": {
        "id": "6pW_Li_IGC1x"
      },
      "source": [
        "#8. Split the data into dependent and independent variables.\n",
        "\n"
      ]
    },
    {
      "cell_type": "code",
      "execution_count": null,
      "metadata": {
        "colab": {
          "base_uri": "https://localhost:8080/",
          "height": 270
        },
        "id": "fl1xchzuGInN",
        "outputId": "d838779f-a3b8-4933-ab7b-dc887d351a02"
      },
      "outputs": [
        {
          "data": {
            "text/html": [
              "\n",
              "  <div id=\"df-daadb2ca-d6be-41ab-aeaf-32260e4955ee\">\n",
              "    <div class=\"colab-df-container\">\n",
              "      <div>\n",
              "<style scoped>\n",
              "    .dataframe tbody tr th:only-of-type {\n",
              "        vertical-align: middle;\n",
              "    }\n",
              "\n",
              "    .dataframe tbody tr th {\n",
              "        vertical-align: top;\n",
              "    }\n",
              "\n",
              "    .dataframe thead th {\n",
              "        text-align: right;\n",
              "    }\n",
              "</style>\n",
              "<table border=\"1\" class=\"dataframe\">\n",
              "  <thead>\n",
              "    <tr style=\"text-align: right;\">\n",
              "      <th></th>\n",
              "      <th>RowNumber</th>\n",
              "      <th>CustomerId</th>\n",
              "      <th>Surname</th>\n",
              "      <th>CreditScore</th>\n",
              "      <th>Geography</th>\n",
              "      <th>Gender</th>\n",
              "      <th>Age</th>\n",
              "      <th>Tenure</th>\n",
              "      <th>Balance</th>\n",
              "      <th>NumOfProducts</th>\n",
              "      <th>HasCrCard</th>\n",
              "      <th>IsActiveMember</th>\n",
              "      <th>EstimatedSalary</th>\n",
              "      <th>Exited</th>\n",
              "    </tr>\n",
              "  </thead>\n",
              "  <tbody>\n",
              "    <tr>\n",
              "      <th>0</th>\n",
              "      <td>1</td>\n",
              "      <td>15634602</td>\n",
              "      <td>1115</td>\n",
              "      <td>619</td>\n",
              "      <td>0</td>\n",
              "      <td>0</td>\n",
              "      <td>42</td>\n",
              "      <td>2</td>\n",
              "      <td>0.00</td>\n",
              "      <td>1</td>\n",
              "      <td>1</td>\n",
              "      <td>1</td>\n",
              "      <td>101348.88</td>\n",
              "      <td>1</td>\n",
              "    </tr>\n",
              "    <tr>\n",
              "      <th>1</th>\n",
              "      <td>2</td>\n",
              "      <td>15647311</td>\n",
              "      <td>1177</td>\n",
              "      <td>608</td>\n",
              "      <td>2</td>\n",
              "      <td>0</td>\n",
              "      <td>41</td>\n",
              "      <td>1</td>\n",
              "      <td>83807.86</td>\n",
              "      <td>1</td>\n",
              "      <td>0</td>\n",
              "      <td>1</td>\n",
              "      <td>112542.58</td>\n",
              "      <td>0</td>\n",
              "    </tr>\n",
              "    <tr>\n",
              "      <th>2</th>\n",
              "      <td>3</td>\n",
              "      <td>15619304</td>\n",
              "      <td>2040</td>\n",
              "      <td>502</td>\n",
              "      <td>0</td>\n",
              "      <td>0</td>\n",
              "      <td>42</td>\n",
              "      <td>8</td>\n",
              "      <td>159660.80</td>\n",
              "      <td>3</td>\n",
              "      <td>1</td>\n",
              "      <td>0</td>\n",
              "      <td>113931.57</td>\n",
              "      <td>1</td>\n",
              "    </tr>\n",
              "    <tr>\n",
              "      <th>3</th>\n",
              "      <td>4</td>\n",
              "      <td>15701354</td>\n",
              "      <td>289</td>\n",
              "      <td>699</td>\n",
              "      <td>0</td>\n",
              "      <td>0</td>\n",
              "      <td>39</td>\n",
              "      <td>1</td>\n",
              "      <td>0.00</td>\n",
              "      <td>2</td>\n",
              "      <td>0</td>\n",
              "      <td>0</td>\n",
              "      <td>93826.63</td>\n",
              "      <td>0</td>\n",
              "    </tr>\n",
              "    <tr>\n",
              "      <th>4</th>\n",
              "      <td>5</td>\n",
              "      <td>15737888</td>\n",
              "      <td>1822</td>\n",
              "      <td>850</td>\n",
              "      <td>2</td>\n",
              "      <td>0</td>\n",
              "      <td>43</td>\n",
              "      <td>2</td>\n",
              "      <td>125510.82</td>\n",
              "      <td>1</td>\n",
              "      <td>1</td>\n",
              "      <td>1</td>\n",
              "      <td>79084.10</td>\n",
              "      <td>0</td>\n",
              "    </tr>\n",
              "  </tbody>\n",
              "</table>\n",
              "</div>\n",
              "      <button class=\"colab-df-convert\" onclick=\"convertToInteractive('df-daadb2ca-d6be-41ab-aeaf-32260e4955ee')\"\n",
              "              title=\"Convert this dataframe to an interactive table.\"\n",
              "              style=\"display:none;\">\n",
              "        \n",
              "  <svg xmlns=\"http://www.w3.org/2000/svg\" height=\"24px\"viewBox=\"0 0 24 24\"\n",
              "       width=\"24px\">\n",
              "    <path d=\"M0 0h24v24H0V0z\" fill=\"none\"/>\n",
              "    <path d=\"M18.56 5.44l.94 2.06.94-2.06 2.06-.94-2.06-.94-.94-2.06-.94 2.06-2.06.94zm-11 1L8.5 8.5l.94-2.06 2.06-.94-2.06-.94L8.5 2.5l-.94 2.06-2.06.94zm10 10l.94 2.06.94-2.06 2.06-.94-2.06-.94-.94-2.06-.94 2.06-2.06.94z\"/><path d=\"M17.41 7.96l-1.37-1.37c-.4-.4-.92-.59-1.43-.59-.52 0-1.04.2-1.43.59L10.3 9.45l-7.72 7.72c-.78.78-.78 2.05 0 2.83L4 21.41c.39.39.9.59 1.41.59.51 0 1.02-.2 1.41-.59l7.78-7.78 2.81-2.81c.8-.78.8-2.07 0-2.86zM5.41 20L4 18.59l7.72-7.72 1.47 1.35L5.41 20z\"/>\n",
              "  </svg>\n",
              "      </button>\n",
              "      \n",
              "  <style>\n",
              "    .colab-df-container {\n",
              "      display:flex;\n",
              "      flex-wrap:wrap;\n",
              "      gap: 12px;\n",
              "    }\n",
              "\n",
              "    .colab-df-convert {\n",
              "      background-color: #E8F0FE;\n",
              "      border: none;\n",
              "      border-radius: 50%;\n",
              "      cursor: pointer;\n",
              "      display: none;\n",
              "      fill: #1967D2;\n",
              "      height: 32px;\n",
              "      padding: 0 0 0 0;\n",
              "      width: 32px;\n",
              "    }\n",
              "\n",
              "    .colab-df-convert:hover {\n",
              "      background-color: #E2EBFA;\n",
              "      box-shadow: 0px 1px 2px rgba(60, 64, 67, 0.3), 0px 1px 3px 1px rgba(60, 64, 67, 0.15);\n",
              "      fill: #174EA6;\n",
              "    }\n",
              "\n",
              "    [theme=dark] .colab-df-convert {\n",
              "      background-color: #3B4455;\n",
              "      fill: #D2E3FC;\n",
              "    }\n",
              "\n",
              "    [theme=dark] .colab-df-convert:hover {\n",
              "      background-color: #434B5C;\n",
              "      box-shadow: 0px 1px 3px 1px rgba(0, 0, 0, 0.15);\n",
              "      filter: drop-shadow(0px 1px 2px rgba(0, 0, 0, 0.3));\n",
              "      fill: #FFFFFF;\n",
              "    }\n",
              "  </style>\n",
              "\n",
              "      <script>\n",
              "        const buttonEl =\n",
              "          document.querySelector('#df-daadb2ca-d6be-41ab-aeaf-32260e4955ee button.colab-df-convert');\n",
              "        buttonEl.style.display =\n",
              "          google.colab.kernel.accessAllowed ? 'block' : 'none';\n",
              "\n",
              "        async function convertToInteractive(key) {\n",
              "          const element = document.querySelector('#df-daadb2ca-d6be-41ab-aeaf-32260e4955ee');\n",
              "          const dataTable =\n",
              "            await google.colab.kernel.invokeFunction('convertToInteractive',\n",
              "                                                     [key], {});\n",
              "          if (!dataTable) return;\n",
              "\n",
              "          const docLinkHtml = 'Like what you see? Visit the ' +\n",
              "            '<a target=\"_blank\" href=https://colab.research.google.com/notebooks/data_table.ipynb>data table notebook</a>'\n",
              "            + ' to learn more about interactive tables.';\n",
              "          element.innerHTML = '';\n",
              "          dataTable['output_type'] = 'display_data';\n",
              "          await google.colab.output.renderOutput(dataTable, element);\n",
              "          const docLink = document.createElement('div');\n",
              "          docLink.innerHTML = docLinkHtml;\n",
              "          element.appendChild(docLink);\n",
              "        }\n",
              "      </script>\n",
              "    </div>\n",
              "  </div>\n",
              "  "
            ],
            "text/plain": [
              "   RowNumber  CustomerId  Surname  CreditScore  Geography  Gender  Age  \\\n",
              "0          1    15634602     1115          619          0       0   42   \n",
              "1          2    15647311     1177          608          2       0   41   \n",
              "2          3    15619304     2040          502          0       0   42   \n",
              "3          4    15701354      289          699          0       0   39   \n",
              "4          5    15737888     1822          850          2       0   43   \n",
              "\n",
              "   Tenure    Balance  NumOfProducts  HasCrCard  IsActiveMember  \\\n",
              "0       2       0.00              1          1               1   \n",
              "1       1   83807.86              1          0               1   \n",
              "2       8  159660.80              3          1               0   \n",
              "3       1       0.00              2          0               0   \n",
              "4       2  125510.82              1          1               1   \n",
              "\n",
              "   EstimatedSalary  Exited  \n",
              "0        101348.88       1  \n",
              "1        112542.58       0  \n",
              "2        113931.57       1  \n",
              "3         93826.63       0  \n",
              "4         79084.10       0  "
            ]
          },
          "execution_count": 36,
          "metadata": {},
          "output_type": "execute_result"
        }
      ],
      "source": [
        "df.head()"
      ]
    },
    {
      "cell_type": "code",
      "execution_count": 224,
      "metadata": {
        "colab": {
          "base_uri": "https://localhost:8080/"
        },
        "id": "o5jNr7DppHAv",
        "outputId": "190589fa-0f57-4953-8ffc-4c4ddc88eb1b"
      },
      "outputs": [
        {
          "data": {
            "text/plain": [
              "array([[1.0000000e+00, 1.5634602e+07, 1.1150000e+03, ..., 1.0000000e+00,\n",
              "        1.0000000e+00, 1.0134888e+05],\n",
              "       [2.0000000e+00, 1.5647311e+07, 1.1770000e+03, ..., 0.0000000e+00,\n",
              "        1.0000000e+00, 1.1254258e+05],\n",
              "       [3.0000000e+00, 1.5619304e+07, 2.0400000e+03, ..., 1.0000000e+00,\n",
              "        0.0000000e+00, 1.1393157e+05],\n",
              "       ...,\n",
              "       [9.9980000e+03, 1.5584532e+07, 1.5700000e+03, ..., 0.0000000e+00,\n",
              "        1.0000000e+00, 4.2085580e+04],\n",
              "       [9.9990000e+03, 1.5682355e+07, 2.3450000e+03, ..., 1.0000000e+00,\n",
              "        0.0000000e+00, 9.2888520e+04],\n",
              "       [1.0000000e+04, 1.5628319e+07, 2.7510000e+03, ..., 1.0000000e+00,\n",
              "        0.0000000e+00, 3.8190780e+04]])"
            ]
          },
          "execution_count": 224,
          "metadata": {},
          "output_type": "execute_result"
        }
      ],
      "source": [
        "x=df.iloc[:,0:13].values\n",
        "x"
      ]
    },
    {
      "cell_type": "code",
      "execution_count": 225,
      "metadata": {
        "colab": {
          "base_uri": "https://localhost:8080/"
        },
        "id": "TvV-aFbIqJrh",
        "outputId": "84b2fb31-e59e-46b6-ed47-1aa33a47f81e"
      },
      "outputs": [
        {
          "data": {
            "text/plain": [
              "array([1, 0, 1, ..., 1, 1, 0])"
            ]
          },
          "execution_count": 225,
          "metadata": {},
          "output_type": "execute_result"
        }
      ],
      "source": [
        "y=df.iloc[0:,13].values\n",
        "y"
      ]
    },
    {
      "cell_type": "markdown",
      "metadata": {
        "id": "kw63TiBFrj2e"
      },
      "source": [
        "#9. Scale the independent variables"
      ]
    },
    {
      "cell_type": "code",
      "execution_count": 66,
      "metadata": {
        "id": "gN6p0pO4xFwp"
      },
      "outputs": [],
      "source": [
        "from sklearn.model_selection import train_test_split"
      ]
    },
    {
      "cell_type": "code",
      "execution_count": 238,
      "metadata": {
        "id": "QN3Tup5_xSmO"
      },
      "outputs": [],
      "source": [
        "xtrain,xtest,ytrain,ytest=(train_test_split(x,y,test_size=0.3,random_state=0))"
      ]
    },
    {
      "cell_type": "code",
      "execution_count": 239,
      "metadata": {
        "colab": {
          "base_uri": "https://localhost:8080/"
        },
        "id": "TQFIW8gjxq-x",
        "outputId": "cddaa54c-364c-41e7-eb01-9561fa08758b"
      },
      "outputs": [
        {
          "data": {
            "text/plain": [
              "array([[7.6820000e+03, 1.5633608e+07, 2.5900000e+02, ..., 1.0000000e+00,\n",
              "        1.0000000e+00, 5.5796830e+04],\n",
              "       [9.0320000e+03, 1.5742323e+07, 1.6400000e+02, ..., 1.0000000e+00,\n",
              "        0.0000000e+00, 1.9823020e+04],\n",
              "       [3.6920000e+03, 1.5760244e+07, 1.3040000e+03, ..., 0.0000000e+00,\n",
              "        1.0000000e+00, 1.3848580e+04],\n",
              "       ...,\n",
              "       [3.2650000e+03, 1.5574372e+07, 1.2020000e+03, ..., 1.0000000e+00,\n",
              "        0.0000000e+00, 1.8142987e+05],\n",
              "       [9.8460000e+03, 1.5664035e+07, 2.1220000e+03, ..., 1.0000000e+00,\n",
              "        1.0000000e+00, 1.4875016e+05],\n",
              "       [2.7330000e+03, 1.5592816e+07, 2.6780000e+03, ..., 1.0000000e+00,\n",
              "        0.0000000e+00, 1.1885526e+05]])"
            ]
          },
          "execution_count": 239,
          "metadata": {},
          "output_type": "execute_result"
        }
      ],
      "source": [
        "xtrain"
      ]
    },
    {
      "cell_type": "code",
      "execution_count": 69,
      "metadata": {
        "id": "IeqJurNqzdQ4"
      },
      "outputs": [],
      "source": [
        "from tensorflow.keras.models import Sequential\n",
        "from tensorflow.keras.layers import Dense"
      ]
    },
    {
      "cell_type": "code",
      "execution_count": 246,
      "metadata": {
        "id": "bwa3Xlpaz3lF"
      },
      "outputs": [],
      "source": [
        "regressor=Sequential()\n",
        "regressor.add(Dense(4,activation='relu'))\n",
        "regressor.add(Dense(12,activation='relu'))\n",
        "regressor.add(Dense(8,activation='relu'))\n",
        "regressor.add(Dense(15,activation='relu'))\n",
        "regressor.add(Dense(1,activation='linear'))\n"
      ]
    },
    {
      "cell_type": "code",
      "execution_count": 247,
      "metadata": {
        "id": "vyaarIhn0lE7"
      },
      "outputs": [],
      "source": [
        "regressor.compile(optimizer='adam',loss='mse',metrics=['mse'])"
      ]
    },
    {
      "cell_type": "code",
      "execution_count": 249,
      "metadata": {
        "colab": {
          "base_uri": "https://localhost:8080/"
        },
        "id": "z1auM_W51yuK",
        "outputId": "327cf344-a041-4a1b-d8d8-acccf89f195d"
      },
      "outputs": [
        {
          "name": "stdout",
          "output_type": "stream",
          "text": [
            "Epoch 1/300\n",
            "70/70 [==============================] - 1s 2ms/step - loss: 30584311808.0000 - mse: 30584311808.0000\n",
            "Epoch 2/300\n",
            "70/70 [==============================] - 0s 2ms/step - loss: 6291467.0000 - mse: 6291467.0000\n",
            "Epoch 3/300\n",
            "70/70 [==============================] - 0s 2ms/step - loss: 10654.1436 - mse: 10654.1436\n",
            "Epoch 4/300\n",
            "70/70 [==============================] - 0s 2ms/step - loss: 2.7873 - mse: 2.7873\n",
            "Epoch 5/300\n",
            "70/70 [==============================] - 0s 2ms/step - loss: 0.1670 - mse: 0.1670\n",
            "Epoch 6/300\n",
            "70/70 [==============================] - 0s 2ms/step - loss: 0.1646 - mse: 0.1646\n",
            "Epoch 7/300\n",
            "70/70 [==============================] - 0s 2ms/step - loss: 0.1635 - mse: 0.1635\n",
            "Epoch 8/300\n",
            "70/70 [==============================] - 0s 2ms/step - loss: 0.1631 - mse: 0.1631\n",
            "Epoch 9/300\n",
            "70/70 [==============================] - 0s 2ms/step - loss: 0.1626 - mse: 0.1626\n",
            "Epoch 10/300\n",
            "70/70 [==============================] - 0s 2ms/step - loss: 0.1623 - mse: 0.1623\n",
            "Epoch 11/300\n",
            "70/70 [==============================] - 0s 2ms/step - loss: 0.1621 - mse: 0.1621\n",
            "Epoch 12/300\n",
            "70/70 [==============================] - 0s 2ms/step - loss: 0.1619 - mse: 0.1619\n",
            "Epoch 13/300\n",
            "70/70 [==============================] - 0s 2ms/step - loss: 0.1619 - mse: 0.1619\n",
            "Epoch 14/300\n",
            "70/70 [==============================] - 0s 2ms/step - loss: 0.1619 - mse: 0.1619\n",
            "Epoch 15/300\n",
            "70/70 [==============================] - 0s 2ms/step - loss: 0.1619 - mse: 0.1619\n",
            "Epoch 16/300\n",
            "70/70 [==============================] - 0s 2ms/step - loss: 0.1618 - mse: 0.1618\n",
            "Epoch 17/300\n",
            "70/70 [==============================] - 0s 2ms/step - loss: 0.1616 - mse: 0.1616\n",
            "Epoch 18/300\n",
            "70/70 [==============================] - 0s 2ms/step - loss: 0.1616 - mse: 0.1616\n",
            "Epoch 19/300\n",
            "70/70 [==============================] - 0s 2ms/step - loss: 0.1616 - mse: 0.1616\n",
            "Epoch 20/300\n",
            "70/70 [==============================] - 0s 2ms/step - loss: 0.1616 - mse: 0.1616\n",
            "Epoch 21/300\n",
            "70/70 [==============================] - 0s 2ms/step - loss: 0.1617 - mse: 0.1617\n",
            "Epoch 22/300\n",
            "70/70 [==============================] - 0s 2ms/step - loss: 0.1617 - mse: 0.1617\n",
            "Epoch 23/300\n",
            "70/70 [==============================] - 0s 2ms/step - loss: 0.1618 - mse: 0.1618\n",
            "Epoch 24/300\n",
            "70/70 [==============================] - 0s 2ms/step - loss: 0.1618 - mse: 0.1618\n",
            "Epoch 25/300\n",
            "70/70 [==============================] - 0s 2ms/step - loss: 0.1618 - mse: 0.1618\n",
            "Epoch 26/300\n",
            "70/70 [==============================] - 0s 3ms/step - loss: 0.1618 - mse: 0.1618\n",
            "Epoch 27/300\n",
            "70/70 [==============================] - 0s 2ms/step - loss: 0.1618 - mse: 0.1618\n",
            "Epoch 28/300\n",
            "70/70 [==============================] - 0s 2ms/step - loss: 0.1619 - mse: 0.1619\n",
            "Epoch 29/300\n",
            "70/70 [==============================] - 0s 2ms/step - loss: 0.1618 - mse: 0.1618\n",
            "Epoch 30/300\n",
            "70/70 [==============================] - 0s 2ms/step - loss: 0.1618 - mse: 0.1618\n",
            "Epoch 31/300\n",
            "70/70 [==============================] - 0s 2ms/step - loss: 0.1618 - mse: 0.1618\n",
            "Epoch 32/300\n",
            "70/70 [==============================] - 0s 2ms/step - loss: 0.1618 - mse: 0.1618\n",
            "Epoch 33/300\n",
            "70/70 [==============================] - 0s 2ms/step - loss: 0.1618 - mse: 0.1618\n",
            "Epoch 34/300\n",
            "70/70 [==============================] - 0s 2ms/step - loss: 0.1619 - mse: 0.1619\n",
            "Epoch 35/300\n",
            "70/70 [==============================] - 0s 2ms/step - loss: 0.1617 - mse: 0.1617\n",
            "Epoch 36/300\n",
            "70/70 [==============================] - 0s 2ms/step - loss: 0.1618 - mse: 0.1618\n",
            "Epoch 37/300\n",
            "70/70 [==============================] - 0s 3ms/step - loss: 0.1617 - mse: 0.1617\n",
            "Epoch 38/300\n",
            "70/70 [==============================] - 0s 2ms/step - loss: 0.1618 - mse: 0.1618\n",
            "Epoch 39/300\n",
            "70/70 [==============================] - 0s 2ms/step - loss: 0.1619 - mse: 0.1619\n",
            "Epoch 40/300\n",
            "70/70 [==============================] - 0s 2ms/step - loss: 0.1618 - mse: 0.1618\n",
            "Epoch 41/300\n",
            "70/70 [==============================] - 0s 2ms/step - loss: 0.1620 - mse: 0.1620\n",
            "Epoch 42/300\n",
            "70/70 [==============================] - 0s 2ms/step - loss: 0.1618 - mse: 0.1618\n",
            "Epoch 43/300\n",
            "70/70 [==============================] - 0s 2ms/step - loss: 0.1618 - mse: 0.1618\n",
            "Epoch 44/300\n",
            "70/70 [==============================] - 0s 2ms/step - loss: 0.1617 - mse: 0.1617\n",
            "Epoch 45/300\n",
            "70/70 [==============================] - 0s 2ms/step - loss: 0.1619 - mse: 0.1619\n",
            "Epoch 46/300\n",
            "70/70 [==============================] - 0s 2ms/step - loss: 0.1619 - mse: 0.1619\n",
            "Epoch 47/300\n",
            "70/70 [==============================] - 0s 2ms/step - loss: 0.1618 - mse: 0.1618\n",
            "Epoch 48/300\n",
            "70/70 [==============================] - 0s 2ms/step - loss: 0.1617 - mse: 0.1617\n",
            "Epoch 49/300\n",
            "70/70 [==============================] - 0s 2ms/step - loss: 0.1617 - mse: 0.1617\n",
            "Epoch 50/300\n",
            "70/70 [==============================] - 0s 3ms/step - loss: 0.1618 - mse: 0.1618\n",
            "Epoch 51/300\n",
            "70/70 [==============================] - 0s 2ms/step - loss: 0.1618 - mse: 0.1618\n",
            "Epoch 52/300\n",
            "70/70 [==============================] - 0s 3ms/step - loss: 0.1618 - mse: 0.1618\n",
            "Epoch 53/300\n",
            "70/70 [==============================] - 0s 3ms/step - loss: 0.1618 - mse: 0.1618\n",
            "Epoch 54/300\n",
            "70/70 [==============================] - 0s 3ms/step - loss: 0.1617 - mse: 0.1617\n",
            "Epoch 55/300\n",
            "70/70 [==============================] - 0s 2ms/step - loss: 0.1619 - mse: 0.1619\n",
            "Epoch 56/300\n",
            "70/70 [==============================] - 0s 2ms/step - loss: 0.1619 - mse: 0.1619\n",
            "Epoch 57/300\n",
            "70/70 [==============================] - 0s 2ms/step - loss: 0.1619 - mse: 0.1619\n",
            "Epoch 58/300\n",
            "70/70 [==============================] - 0s 2ms/step - loss: 0.1620 - mse: 0.1620\n",
            "Epoch 59/300\n",
            "70/70 [==============================] - 0s 2ms/step - loss: 0.1619 - mse: 0.1619\n",
            "Epoch 60/300\n",
            "70/70 [==============================] - 0s 2ms/step - loss: 0.1622 - mse: 0.1622\n",
            "Epoch 61/300\n",
            "70/70 [==============================] - 0s 2ms/step - loss: 0.1620 - mse: 0.1620\n",
            "Epoch 62/300\n",
            "70/70 [==============================] - 0s 2ms/step - loss: 0.1621 - mse: 0.1621\n",
            "Epoch 63/300\n",
            "70/70 [==============================] - 0s 2ms/step - loss: 0.1619 - mse: 0.1619\n",
            "Epoch 64/300\n",
            "70/70 [==============================] - 0s 2ms/step - loss: 0.1621 - mse: 0.1621\n",
            "Epoch 65/300\n",
            "70/70 [==============================] - 0s 3ms/step - loss: 0.1615 - mse: 0.1615\n",
            "Epoch 66/300\n",
            "70/70 [==============================] - 0s 2ms/step - loss: 0.1625 - mse: 0.1625\n",
            "Epoch 67/300\n",
            "70/70 [==============================] - 0s 2ms/step - loss: 0.1620 - mse: 0.1620\n",
            "Epoch 68/300\n",
            "70/70 [==============================] - 0s 2ms/step - loss: 0.1618 - mse: 0.1618\n",
            "Epoch 69/300\n",
            "70/70 [==============================] - 0s 2ms/step - loss: 0.1618 - mse: 0.1618\n",
            "Epoch 70/300\n",
            "70/70 [==============================] - 0s 2ms/step - loss: 0.1622 - mse: 0.1622\n",
            "Epoch 71/300\n",
            "70/70 [==============================] - 0s 2ms/step - loss: 0.1622 - mse: 0.1622\n",
            "Epoch 72/300\n",
            "70/70 [==============================] - 0s 2ms/step - loss: 0.1620 - mse: 0.1620\n",
            "Epoch 73/300\n",
            "70/70 [==============================] - 0s 2ms/step - loss: 0.1621 - mse: 0.1621\n",
            "Epoch 74/300\n",
            "70/70 [==============================] - 0s 2ms/step - loss: 0.1621 - mse: 0.1621\n",
            "Epoch 75/300\n",
            "70/70 [==============================] - 0s 2ms/step - loss: 0.1621 - mse: 0.1621\n",
            "Epoch 76/300\n",
            "70/70 [==============================] - 0s 2ms/step - loss: 0.1619 - mse: 0.1619\n",
            "Epoch 77/300\n",
            "70/70 [==============================] - 0s 3ms/step - loss: 0.1624 - mse: 0.1624\n",
            "Epoch 78/300\n",
            "70/70 [==============================] - 0s 2ms/step - loss: 0.1620 - mse: 0.1620\n",
            "Epoch 79/300\n",
            "70/70 [==============================] - 0s 2ms/step - loss: 0.1622 - mse: 0.1622\n",
            "Epoch 80/300\n",
            "70/70 [==============================] - 0s 2ms/step - loss: 0.1625 - mse: 0.1625\n",
            "Epoch 81/300\n",
            "70/70 [==============================] - 0s 2ms/step - loss: 0.1625 - mse: 0.1625\n",
            "Epoch 82/300\n",
            "70/70 [==============================] - 0s 3ms/step - loss: 0.1621 - mse: 0.1621\n",
            "Epoch 83/300\n",
            "70/70 [==============================] - 0s 2ms/step - loss: 0.1631 - mse: 0.1631\n",
            "Epoch 84/300\n",
            "70/70 [==============================] - 0s 3ms/step - loss: 0.1626 - mse: 0.1626\n",
            "Epoch 85/300\n",
            "70/70 [==============================] - 0s 2ms/step - loss: 0.1627 - mse: 0.1627\n",
            "Epoch 86/300\n",
            "70/70 [==============================] - 0s 2ms/step - loss: 0.1631 - mse: 0.1631\n",
            "Epoch 87/300\n",
            "70/70 [==============================] - 0s 3ms/step - loss: 0.1642 - mse: 0.1642\n",
            "Epoch 88/300\n",
            "70/70 [==============================] - 0s 3ms/step - loss: 0.1626 - mse: 0.1626\n",
            "Epoch 89/300\n",
            "70/70 [==============================] - 0s 2ms/step - loss: 0.1624 - mse: 0.1624\n",
            "Epoch 90/300\n",
            "70/70 [==============================] - 0s 2ms/step - loss: 0.1638 - mse: 0.1638\n",
            "Epoch 91/300\n",
            "70/70 [==============================] - 0s 2ms/step - loss: 0.1632 - mse: 0.1632\n",
            "Epoch 92/300\n",
            "70/70 [==============================] - 0s 2ms/step - loss: 0.1640 - mse: 0.1640\n",
            "Epoch 93/300\n",
            "70/70 [==============================] - 0s 2ms/step - loss: 0.1631 - mse: 0.1631\n",
            "Epoch 94/300\n",
            "70/70 [==============================] - 0s 2ms/step - loss: 0.1650 - mse: 0.1650\n",
            "Epoch 95/300\n",
            "70/70 [==============================] - 0s 2ms/step - loss: 0.1632 - mse: 0.1632\n",
            "Epoch 96/300\n",
            "70/70 [==============================] - 0s 2ms/step - loss: 0.1637 - mse: 0.1637\n",
            "Epoch 97/300\n",
            "70/70 [==============================] - 0s 2ms/step - loss: 0.1635 - mse: 0.1635\n",
            "Epoch 98/300\n",
            "70/70 [==============================] - 0s 2ms/step - loss: 0.1635 - mse: 0.1635\n",
            "Epoch 99/300\n",
            "70/70 [==============================] - 0s 2ms/step - loss: 0.1640 - mse: 0.1640\n",
            "Epoch 100/300\n",
            "70/70 [==============================] - 0s 2ms/step - loss: 0.1672 - mse: 0.1672\n",
            "Epoch 101/300\n",
            "70/70 [==============================] - 0s 2ms/step - loss: 0.1639 - mse: 0.1639\n",
            "Epoch 102/300\n",
            "70/70 [==============================] - 0s 2ms/step - loss: 0.1659 - mse: 0.1659\n",
            "Epoch 103/300\n",
            "70/70 [==============================] - 0s 2ms/step - loss: 0.1681 - mse: 0.1681\n",
            "Epoch 104/300\n",
            "70/70 [==============================] - 0s 2ms/step - loss: 0.1636 - mse: 0.1636\n",
            "Epoch 105/300\n",
            "70/70 [==============================] - 0s 3ms/step - loss: 0.1634 - mse: 0.1634\n",
            "Epoch 106/300\n",
            "70/70 [==============================] - 0s 2ms/step - loss: 0.1634 - mse: 0.1634\n",
            "Epoch 107/300\n",
            "70/70 [==============================] - 0s 2ms/step - loss: 0.1656 - mse: 0.1656\n",
            "Epoch 108/300\n",
            "70/70 [==============================] - 0s 2ms/step - loss: 0.1679 - mse: 0.1679\n",
            "Epoch 109/300\n",
            "70/70 [==============================] - 0s 2ms/step - loss: 0.1664 - mse: 0.1664\n",
            "Epoch 110/300\n",
            "70/70 [==============================] - 0s 3ms/step - loss: 0.1726 - mse: 0.1726\n",
            "Epoch 111/300\n",
            "70/70 [==============================] - 0s 2ms/step - loss: 0.1643 - mse: 0.1643\n",
            "Epoch 112/300\n",
            "70/70 [==============================] - 0s 2ms/step - loss: 0.1652 - mse: 0.1652\n",
            "Epoch 113/300\n",
            "70/70 [==============================] - 0s 2ms/step - loss: 0.1690 - mse: 0.1690\n",
            "Epoch 114/300\n",
            "70/70 [==============================] - 0s 2ms/step - loss: 0.1829 - mse: 0.1829\n",
            "Epoch 115/300\n",
            "70/70 [==============================] - 0s 2ms/step - loss: 0.1651 - mse: 0.1651\n",
            "Epoch 116/300\n",
            "70/70 [==============================] - 0s 2ms/step - loss: 0.1760 - mse: 0.1760\n",
            "Epoch 117/300\n",
            "70/70 [==============================] - 0s 3ms/step - loss: 0.1739 - mse: 0.1739\n",
            "Epoch 118/300\n",
            "70/70 [==============================] - 0s 2ms/step - loss: 0.1690 - mse: 0.1690\n",
            "Epoch 119/300\n",
            "70/70 [==============================] - 0s 2ms/step - loss: 0.1707 - mse: 0.1707\n",
            "Epoch 120/300\n",
            "70/70 [==============================] - 0s 2ms/step - loss: 0.1744 - mse: 0.1744\n",
            "Epoch 121/300\n",
            "70/70 [==============================] - 0s 2ms/step - loss: 0.1971 - mse: 0.1971\n",
            "Epoch 122/300\n",
            "70/70 [==============================] - 0s 2ms/step - loss: 0.1724 - mse: 0.1724\n",
            "Epoch 123/300\n",
            "70/70 [==============================] - 0s 3ms/step - loss: 0.1876 - mse: 0.1876\n",
            "Epoch 124/300\n",
            "70/70 [==============================] - 0s 2ms/step - loss: 0.1821 - mse: 0.1821\n",
            "Epoch 125/300\n",
            "70/70 [==============================] - 0s 2ms/step - loss: 0.1690 - mse: 0.1690\n",
            "Epoch 126/300\n",
            "70/70 [==============================] - 0s 2ms/step - loss: 0.2038 - mse: 0.2038\n",
            "Epoch 127/300\n",
            "70/70 [==============================] - 0s 2ms/step - loss: 0.1704 - mse: 0.1704\n",
            "Epoch 128/300\n",
            "70/70 [==============================] - 0s 2ms/step - loss: 0.1714 - mse: 0.1714\n",
            "Epoch 129/300\n",
            "70/70 [==============================] - 0s 2ms/step - loss: 0.1851 - mse: 0.1851\n",
            "Epoch 130/300\n",
            "70/70 [==============================] - 0s 2ms/step - loss: 0.1733 - mse: 0.1733\n",
            "Epoch 131/300\n",
            "70/70 [==============================] - 0s 2ms/step - loss: 0.1902 - mse: 0.1902\n",
            "Epoch 132/300\n",
            "70/70 [==============================] - 0s 2ms/step - loss: 0.1918 - mse: 0.1918\n",
            "Epoch 133/300\n",
            "70/70 [==============================] - 0s 2ms/step - loss: 0.2242 - mse: 0.2242\n",
            "Epoch 134/300\n",
            "70/70 [==============================] - 0s 2ms/step - loss: 0.2030 - mse: 0.2030\n",
            "Epoch 135/300\n",
            "70/70 [==============================] - 0s 3ms/step - loss: 0.2302 - mse: 0.2302\n",
            "Epoch 136/300\n",
            "70/70 [==============================] - 0s 3ms/step - loss: 0.1823 - mse: 0.1823\n",
            "Epoch 137/300\n",
            "70/70 [==============================] - 0s 2ms/step - loss: 0.1733 - mse: 0.1733\n",
            "Epoch 138/300\n",
            "70/70 [==============================] - 0s 2ms/step - loss: 0.2003 - mse: 0.2003\n",
            "Epoch 139/300\n",
            "70/70 [==============================] - 0s 3ms/step - loss: 0.2109 - mse: 0.2109\n",
            "Epoch 140/300\n",
            "70/70 [==============================] - 0s 2ms/step - loss: 0.1982 - mse: 0.1982\n",
            "Epoch 141/300\n",
            "70/70 [==============================] - 0s 2ms/step - loss: 0.2050 - mse: 0.2050\n",
            "Epoch 142/300\n",
            "70/70 [==============================] - 0s 2ms/step - loss: 0.2098 - mse: 0.2098\n",
            "Epoch 143/300\n",
            "70/70 [==============================] - 0s 2ms/step - loss: 0.2404 - mse: 0.2404\n",
            "Epoch 144/300\n",
            "70/70 [==============================] - 0s 2ms/step - loss: 0.1915 - mse: 0.1915\n",
            "Epoch 145/300\n",
            "70/70 [==============================] - 0s 2ms/step - loss: 0.1849 - mse: 0.1849\n",
            "Epoch 146/300\n",
            "70/70 [==============================] - 0s 3ms/step - loss: 0.2841 - mse: 0.2841\n",
            "Epoch 147/300\n",
            "70/70 [==============================] - 0s 2ms/step - loss: 0.2509 - mse: 0.2509\n",
            "Epoch 148/300\n",
            "70/70 [==============================] - 0s 2ms/step - loss: 0.2096 - mse: 0.2096\n",
            "Epoch 149/300\n",
            "70/70 [==============================] - 0s 2ms/step - loss: 0.3196 - mse: 0.3196\n",
            "Epoch 150/300\n",
            "70/70 [==============================] - 0s 3ms/step - loss: 0.3183 - mse: 0.3183\n",
            "Epoch 151/300\n",
            "70/70 [==============================] - 0s 3ms/step - loss: 0.2870 - mse: 0.2870\n",
            "Epoch 152/300\n",
            "70/70 [==============================] - 0s 2ms/step - loss: 0.4690 - mse: 0.4690\n",
            "Epoch 153/300\n",
            "70/70 [==============================] - 0s 2ms/step - loss: 0.6928 - mse: 0.6928\n",
            "Epoch 154/300\n",
            "70/70 [==============================] - 0s 2ms/step - loss: 1.4910 - mse: 1.4910\n",
            "Epoch 155/300\n",
            "70/70 [==============================] - 0s 2ms/step - loss: 57818.0195 - mse: 57818.0195\n",
            "Epoch 156/300\n",
            "70/70 [==============================] - 0s 2ms/step - loss: 25041.3281 - mse: 25041.3281\n",
            "Epoch 157/300\n",
            "70/70 [==============================] - 0s 2ms/step - loss: 8878.8057 - mse: 8878.8047\n",
            "Epoch 158/300\n",
            "70/70 [==============================] - 0s 2ms/step - loss: 138062.7031 - mse: 138062.7031\n",
            "Epoch 159/300\n",
            "70/70 [==============================] - 0s 2ms/step - loss: 108.1604 - mse: 108.1604\n",
            "Epoch 160/300\n",
            "70/70 [==============================] - 0s 2ms/step - loss: 440.2988 - mse: 440.2988\n",
            "Epoch 161/300\n",
            "70/70 [==============================] - 0s 2ms/step - loss: 204107.6250 - mse: 204107.6250\n",
            "Epoch 162/300\n",
            "70/70 [==============================] - 0s 2ms/step - loss: 209.5200 - mse: 209.5200\n",
            "Epoch 163/300\n",
            "70/70 [==============================] - 0s 2ms/step - loss: 1.3497 - mse: 1.3497\n",
            "Epoch 164/300\n",
            "70/70 [==============================] - 0s 2ms/step - loss: 137660.0938 - mse: 137660.0938\n",
            "Epoch 165/300\n",
            "70/70 [==============================] - 0s 2ms/step - loss: 28124.4785 - mse: 28124.4785\n",
            "Epoch 166/300\n",
            "70/70 [==============================] - 0s 2ms/step - loss: 22.4480 - mse: 22.4480\n",
            "Epoch 167/300\n",
            "70/70 [==============================] - 0s 2ms/step - loss: 107435.9922 - mse: 107435.9922\n",
            "Epoch 168/300\n",
            "70/70 [==============================] - 0s 3ms/step - loss: 44864.9961 - mse: 44864.9961\n",
            "Epoch 169/300\n",
            "70/70 [==============================] - 0s 2ms/step - loss: 59.0326 - mse: 59.0326\n",
            "Epoch 170/300\n",
            "70/70 [==============================] - 0s 2ms/step - loss: 108603.4766 - mse: 108603.4766\n",
            "Epoch 171/300\n",
            "70/70 [==============================] - 0s 2ms/step - loss: 11444.7637 - mse: 11444.7637\n",
            "Epoch 172/300\n",
            "70/70 [==============================] - 0s 2ms/step - loss: 2521.9937 - mse: 2521.9937\n",
            "Epoch 173/300\n",
            "70/70 [==============================] - 0s 2ms/step - loss: 131592.7969 - mse: 131592.7969\n",
            "Epoch 174/300\n",
            "70/70 [==============================] - 0s 2ms/step - loss: 156.4212 - mse: 156.4212\n",
            "Epoch 175/300\n",
            "70/70 [==============================] - 0s 2ms/step - loss: 128853.4922 - mse: 128853.4922\n",
            "Epoch 176/300\n",
            "70/70 [==============================] - 0s 2ms/step - loss: 8577.1543 - mse: 8577.1543\n",
            "Epoch 177/300\n",
            "70/70 [==============================] - 0s 2ms/step - loss: 12.4913 - mse: 12.4913\n",
            "Epoch 178/300\n",
            "70/70 [==============================] - 0s 2ms/step - loss: 186004.6406 - mse: 186004.6562\n",
            "Epoch 179/300\n",
            "70/70 [==============================] - 0s 2ms/step - loss: 2721.3652 - mse: 2721.3652\n",
            "Epoch 180/300\n",
            "70/70 [==============================] - 0s 2ms/step - loss: 2.7106 - mse: 2.7106\n",
            "Epoch 181/300\n",
            "70/70 [==============================] - 0s 2ms/step - loss: 22739.0859 - mse: 22739.0859\n",
            "Epoch 182/300\n",
            "70/70 [==============================] - 0s 2ms/step - loss: 134225.4531 - mse: 134225.4531\n",
            "Epoch 183/300\n",
            "70/70 [==============================] - 0s 2ms/step - loss: 72.1451 - mse: 72.1451\n",
            "Epoch 184/300\n",
            "70/70 [==============================] - 0s 2ms/step - loss: 5132.5693 - mse: 5132.5693\n",
            "Epoch 185/300\n",
            "70/70 [==============================] - 0s 3ms/step - loss: 130399.7109 - mse: 130399.7109\n",
            "Epoch 186/300\n",
            "70/70 [==============================] - 0s 2ms/step - loss: 132.5570 - mse: 132.5570\n",
            "Epoch 187/300\n",
            "70/70 [==============================] - 0s 2ms/step - loss: 111609.2188 - mse: 111609.2188\n",
            "Epoch 188/300\n",
            "70/70 [==============================] - 0s 2ms/step - loss: 15051.9482 - mse: 15051.9473\n",
            "Epoch 189/300\n",
            "70/70 [==============================] - 0s 2ms/step - loss: 48.2443 - mse: 48.2443\n",
            "Epoch 190/300\n",
            "70/70 [==============================] - 0s 2ms/step - loss: 120236.1250 - mse: 120236.1172\n",
            "Epoch 191/300\n",
            "70/70 [==============================] - 0s 2ms/step - loss: 696.5148 - mse: 696.5148\n",
            "Epoch 192/300\n",
            "70/70 [==============================] - 0s 2ms/step - loss: 101383.5312 - mse: 101383.5312\n",
            "Epoch 193/300\n",
            "70/70 [==============================] - 0s 2ms/step - loss: 39916.8906 - mse: 39916.8906\n",
            "Epoch 194/300\n",
            "70/70 [==============================] - 0s 2ms/step - loss: 42.1277 - mse: 42.1277\n",
            "Epoch 195/300\n",
            "70/70 [==============================] - 0s 2ms/step - loss: 89276.3359 - mse: 89276.3359\n",
            "Epoch 196/300\n",
            "70/70 [==============================] - 0s 3ms/step - loss: 85382.7812 - mse: 85382.8047\n",
            "Epoch 197/300\n",
            "70/70 [==============================] - 0s 2ms/step - loss: 50.1131 - mse: 50.1131\n",
            "Epoch 198/300\n",
            "70/70 [==============================] - 0s 2ms/step - loss: 9.4429 - mse: 9.4429\n",
            "Epoch 199/300\n",
            "70/70 [==============================] - 0s 2ms/step - loss: 118366.1328 - mse: 118366.1328\n",
            "Epoch 200/300\n",
            "70/70 [==============================] - 0s 2ms/step - loss: 1261.0273 - mse: 1261.0273\n",
            "Epoch 201/300\n",
            "70/70 [==============================] - 0s 3ms/step - loss: 4879.8662 - mse: 4879.8662\n",
            "Epoch 202/300\n",
            "70/70 [==============================] - 0s 3ms/step - loss: 112256.9141 - mse: 112256.9141\n",
            "Epoch 203/300\n",
            "70/70 [==============================] - 0s 2ms/step - loss: 84.1296 - mse: 84.1296\n",
            "Epoch 204/300\n",
            "70/70 [==============================] - 0s 2ms/step - loss: 134271.7031 - mse: 134271.7031\n",
            "Epoch 205/300\n",
            "70/70 [==============================] - 0s 3ms/step - loss: 24033.2246 - mse: 24033.2246\n",
            "Epoch 206/300\n",
            "70/70 [==============================] - 0s 3ms/step - loss: 18.3730 - mse: 18.3730\n",
            "Epoch 207/300\n",
            "70/70 [==============================] - 0s 3ms/step - loss: 2.3810 - mse: 2.3810\n",
            "Epoch 208/300\n",
            "70/70 [==============================] - 0s 2ms/step - loss: 173112.8438 - mse: 173112.8438\n",
            "Epoch 209/300\n",
            "70/70 [==============================] - 0s 2ms/step - loss: 1049.9603 - mse: 1049.9603\n",
            "Epoch 210/300\n",
            "70/70 [==============================] - 0s 2ms/step - loss: 2.5872 - mse: 2.5872\n",
            "Epoch 211/300\n",
            "70/70 [==============================] - 0s 2ms/step - loss: 1361.4646 - mse: 1361.4646\n",
            "Epoch 212/300\n",
            "70/70 [==============================] - 0s 2ms/step - loss: 99936.8906 - mse: 99936.8906\n",
            "Epoch 213/300\n",
            "70/70 [==============================] - 0s 2ms/step - loss: 134.3728 - mse: 134.3728\n",
            "Epoch 214/300\n",
            "70/70 [==============================] - 0s 2ms/step - loss: 136060.3906 - mse: 136060.3906\n",
            "Epoch 215/300\n",
            "70/70 [==============================] - 0s 3ms/step - loss: 11396.9258 - mse: 11396.9258\n",
            "Epoch 216/300\n",
            "70/70 [==============================] - 0s 2ms/step - loss: 10.6155 - mse: 10.6155\n",
            "Epoch 217/300\n",
            "70/70 [==============================] - 0s 3ms/step - loss: 71.1159 - mse: 71.1159\n",
            "Epoch 218/300\n",
            "70/70 [==============================] - 0s 2ms/step - loss: 128506.3672 - mse: 128506.3672\n",
            "Epoch 219/300\n",
            "70/70 [==============================] - 0s 2ms/step - loss: 206.3261 - mse: 206.3261\n",
            "Epoch 220/300\n",
            "70/70 [==============================] - 0s 3ms/step - loss: 1.5519 - mse: 1.5519\n",
            "Epoch 221/300\n",
            "70/70 [==============================] - 0s 2ms/step - loss: 178404.9375 - mse: 178404.9375\n",
            "Epoch 222/300\n",
            "70/70 [==============================] - 0s 2ms/step - loss: 6442.3965 - mse: 6442.3965\n",
            "Epoch 223/300\n",
            "70/70 [==============================] - 0s 2ms/step - loss: 5.3839 - mse: 5.3839\n",
            "Epoch 224/300\n",
            "70/70 [==============================] - 0s 2ms/step - loss: 0.9813 - mse: 0.9813\n",
            "Epoch 225/300\n",
            "70/70 [==============================] - 0s 2ms/step - loss: 55275.0977 - mse: 55275.0977\n",
            "Epoch 226/300\n",
            "70/70 [==============================] - 0s 2ms/step - loss: 37341.9883 - mse: 37341.9883\n",
            "Epoch 227/300\n",
            "70/70 [==============================] - 0s 2ms/step - loss: 27.7373 - mse: 27.7373\n",
            "Epoch 228/300\n",
            "70/70 [==============================] - 0s 3ms/step - loss: 105755.9844 - mse: 105755.9844\n",
            "Epoch 229/300\n",
            "70/70 [==============================] - 0s 3ms/step - loss: 2007.6986 - mse: 2007.6986\n",
            "Epoch 230/300\n",
            "70/70 [==============================] - 0s 2ms/step - loss: 5.8304 - mse: 5.8304\n",
            "Epoch 231/300\n",
            "70/70 [==============================] - 0s 2ms/step - loss: 131172.7656 - mse: 131172.7656\n",
            "Epoch 232/300\n",
            "70/70 [==============================] - 0s 3ms/step - loss: 3946.8232 - mse: 3946.8232\n",
            "Epoch 233/300\n",
            "70/70 [==============================] - 0s 2ms/step - loss: 3.5787 - mse: 3.5787\n",
            "Epoch 234/300\n",
            "70/70 [==============================] - 0s 2ms/step - loss: 5.6051 - mse: 5.6051\n",
            "Epoch 235/300\n",
            "70/70 [==============================] - 0s 2ms/step - loss: 114169.5547 - mse: 114169.5547\n",
            "Epoch 236/300\n",
            "70/70 [==============================] - 0s 2ms/step - loss: 710.6359 - mse: 710.6359\n",
            "Epoch 237/300\n",
            "70/70 [==============================] - 0s 2ms/step - loss: 2.5420 - mse: 2.5420\n",
            "Epoch 238/300\n",
            "70/70 [==============================] - 0s 2ms/step - loss: 93579.1328 - mse: 93579.1250\n",
            "Epoch 239/300\n",
            "70/70 [==============================] - 0s 2ms/step - loss: 8975.5791 - mse: 8975.5791\n",
            "Epoch 240/300\n",
            "70/70 [==============================] - 0s 2ms/step - loss: 8.5117 - mse: 8.5117\n",
            "Epoch 241/300\n",
            "70/70 [==============================] - 0s 3ms/step - loss: 52114.9375 - mse: 52114.9375\n",
            "Epoch 242/300\n",
            "70/70 [==============================] - 0s 2ms/step - loss: 64428.4883 - mse: 64428.4922\n",
            "Epoch 243/300\n",
            "70/70 [==============================] - 0s 2ms/step - loss: 32.0220 - mse: 32.0220\n",
            "Epoch 244/300\n",
            "70/70 [==============================] - 0s 2ms/step - loss: 3.7969 - mse: 3.7969\n",
            "Epoch 245/300\n",
            "70/70 [==============================] - 0s 2ms/step - loss: 97114.5156 - mse: 97114.5156\n",
            "Epoch 246/300\n",
            "70/70 [==============================] - 0s 3ms/step - loss: 4249.4995 - mse: 4249.5000\n",
            "Epoch 247/300\n",
            "70/70 [==============================] - 0s 2ms/step - loss: 4.5857 - mse: 4.5857\n",
            "Epoch 248/300\n",
            "70/70 [==============================] - 0s 2ms/step - loss: 4775.3823 - mse: 4775.3823\n",
            "Epoch 249/300\n",
            "70/70 [==============================] - 0s 2ms/step - loss: 89631.6250 - mse: 89631.6250\n",
            "Epoch 250/300\n",
            "70/70 [==============================] - 0s 3ms/step - loss: 54.8398 - mse: 54.8398\n",
            "Epoch 251/300\n",
            "70/70 [==============================] - 0s 2ms/step - loss: 4.2461 - mse: 4.2461\n",
            "Epoch 252/300\n",
            "70/70 [==============================] - 0s 3ms/step - loss: 81272.3828 - mse: 81272.3828\n",
            "Epoch 253/300\n",
            "70/70 [==============================] - 0s 3ms/step - loss: 403.5585 - mse: 403.5585\n",
            "Epoch 254/300\n",
            "70/70 [==============================] - 0s 2ms/step - loss: 11.3369 - mse: 11.3369\n",
            "Epoch 255/300\n",
            "70/70 [==============================] - 0s 2ms/step - loss: 68549.0938 - mse: 68549.0938\n",
            "Epoch 256/300\n",
            "70/70 [==============================] - 0s 2ms/step - loss: 340.5391 - mse: 340.5391\n",
            "Epoch 257/300\n",
            "70/70 [==============================] - 0s 2ms/step - loss: 163.1477 - mse: 163.1477\n",
            "Epoch 258/300\n",
            "70/70 [==============================] - 0s 2ms/step - loss: 94058.5781 - mse: 94058.5781\n",
            "Epoch 259/300\n",
            "70/70 [==============================] - 0s 2ms/step - loss: 142.8987 - mse: 142.8987\n",
            "Epoch 260/300\n",
            "70/70 [==============================] - 0s 2ms/step - loss: 3.9678 - mse: 3.9678\n",
            "Epoch 261/300\n",
            "70/70 [==============================] - 0s 2ms/step - loss: 55939.2930 - mse: 55939.2969\n",
            "Epoch 262/300\n",
            "70/70 [==============================] - 0s 2ms/step - loss: 24869.5586 - mse: 24869.5586\n",
            "Epoch 263/300\n",
            "70/70 [==============================] - 0s 2ms/step - loss: 20.8369 - mse: 20.8369\n",
            "Epoch 264/300\n",
            "70/70 [==============================] - 0s 3ms/step - loss: 3.5218 - mse: 3.5218\n",
            "Epoch 265/300\n",
            "70/70 [==============================] - 0s 2ms/step - loss: 89106.6953 - mse: 89106.6953\n",
            "Epoch 266/300\n",
            "70/70 [==============================] - 0s 2ms/step - loss: 961.1131 - mse: 961.1131\n",
            "Epoch 267/300\n",
            "70/70 [==============================] - 0s 2ms/step - loss: 1.0757 - mse: 1.0757\n",
            "Epoch 268/300\n",
            "70/70 [==============================] - 0s 2ms/step - loss: 2.1835 - mse: 2.1835\n",
            "Epoch 269/300\n",
            "70/70 [==============================] - 0s 2ms/step - loss: 78428.3984 - mse: 78428.3984\n",
            "Epoch 270/300\n",
            "70/70 [==============================] - 0s 2ms/step - loss: 1819.1039 - mse: 1819.1039\n",
            "Epoch 271/300\n",
            "70/70 [==============================] - 0s 2ms/step - loss: 1.5418 - mse: 1.5418\n",
            "Epoch 272/300\n",
            "70/70 [==============================] - 0s 2ms/step - loss: 2.7472 - mse: 2.7472\n",
            "Epoch 273/300\n",
            "70/70 [==============================] - 0s 2ms/step - loss: 83778.3828 - mse: 83778.3750\n",
            "Epoch 274/300\n",
            "70/70 [==============================] - 0s 2ms/step - loss: 1355.8195 - mse: 1355.8195\n",
            "Epoch 275/300\n",
            "70/70 [==============================] - 0s 2ms/step - loss: 1.5471 - mse: 1.5471\n",
            "Epoch 276/300\n",
            "70/70 [==============================] - 0s 2ms/step - loss: 1.3428 - mse: 1.3428\n",
            "Epoch 277/300\n",
            "70/70 [==============================] - 0s 2ms/step - loss: 50758.2773 - mse: 50758.2773\n",
            "Epoch 278/300\n",
            "70/70 [==============================] - 0s 2ms/step - loss: 9576.7676 - mse: 9576.7676\n",
            "Epoch 279/300\n",
            "70/70 [==============================] - 0s 2ms/step - loss: 6.5691 - mse: 6.5691\n",
            "Epoch 280/300\n",
            "70/70 [==============================] - 0s 3ms/step - loss: 766.7400 - mse: 766.7400\n",
            "Epoch 281/300\n",
            "70/70 [==============================] - 0s 2ms/step - loss: 59242.3398 - mse: 59242.3398\n",
            "Epoch 282/300\n",
            "70/70 [==============================] - 0s 2ms/step - loss: 39.9056 - mse: 39.9056\n",
            "Epoch 283/300\n",
            "70/70 [==============================] - 0s 3ms/step - loss: 3.8100 - mse: 3.8100\n",
            "Epoch 284/300\n",
            "70/70 [==============================] - 0s 2ms/step - loss: 44419.5547 - mse: 44419.5547\n",
            "Epoch 285/300\n",
            "70/70 [==============================] - 0s 3ms/step - loss: 5129.8838 - mse: 5129.8838\n",
            "Epoch 286/300\n",
            "70/70 [==============================] - 0s 2ms/step - loss: 4.1865 - mse: 4.1865\n",
            "Epoch 287/300\n",
            "70/70 [==============================] - 0s 2ms/step - loss: 525.1896 - mse: 525.1896\n",
            "Epoch 288/300\n",
            "70/70 [==============================] - 0s 2ms/step - loss: 49930.1406 - mse: 49930.1406\n",
            "Epoch 289/300\n",
            "70/70 [==============================] - 0s 2ms/step - loss: 35.0164 - mse: 35.0164\n",
            "Epoch 290/300\n",
            "70/70 [==============================] - 0s 2ms/step - loss: 1.7944 - mse: 1.7944\n",
            "Epoch 291/300\n",
            "70/70 [==============================] - 0s 3ms/step - loss: 47959.7109 - mse: 47959.7109\n",
            "Epoch 292/300\n",
            "70/70 [==============================] - 0s 2ms/step - loss: 7680.8154 - mse: 7680.8154\n",
            "Epoch 293/300\n",
            "70/70 [==============================] - 0s 3ms/step - loss: 6.4556 - mse: 6.4556\n",
            "Epoch 294/300\n",
            "70/70 [==============================] - 0s 2ms/step - loss: 1.4416 - mse: 1.4416\n",
            "Epoch 295/300\n",
            "70/70 [==============================] - 0s 2ms/step - loss: 4882.7573 - mse: 4882.7573\n",
            "Epoch 296/300\n",
            "70/70 [==============================] - 0s 3ms/step - loss: 29985.1270 - mse: 29985.1270\n",
            "Epoch 297/300\n",
            "70/70 [==============================] - 0s 2ms/step - loss: 15.6138 - mse: 15.6138\n",
            "Epoch 298/300\n",
            "70/70 [==============================] - 0s 2ms/step - loss: 3.2061 - mse: 3.2061\n",
            "Epoch 299/300\n",
            "70/70 [==============================] - 0s 2ms/step - loss: 64720.9492 - mse: 64720.9492\n",
            "Epoch 300/300\n",
            "70/70 [==============================] - 0s 2ms/step - loss: 972.4910 - mse: 972.4910\n"
          ]
        },
        {
          "data": {
            "text/plain": [
              "<keras.callbacks.History at 0x7ff5c5f6ced0>"
            ]
          },
          "execution_count": 249,
          "metadata": {},
          "output_type": "execute_result"
        }
      ],
      "source": [
        "regressor.fit(xtrain,ytrain,batch_size=100,epochs=300)"
      ]
    },
    {
      "cell_type": "code",
      "execution_count": 250,
      "metadata": {
        "id": "t0DYMDKu20gp"
      },
      "outputs": [],
      "source": [
        "ypred=regressor.predict(xtest)"
      ]
    },
    {
      "cell_type": "code",
      "execution_count": 251,
      "metadata": {
        "colab": {
          "base_uri": "https://localhost:8080/"
        },
        "id": "3v-HWHNE3PqC",
        "outputId": "0572595b-7de0-4652-a1a7-fac28f59fb83"
      },
      "outputs": [
        {
          "data": {
            "text/plain": [
              "array([[2.4521322],\n",
              "       [2.4677572],\n",
              "       [2.4911947],\n",
              "       ...,\n",
              "       [2.4911947],\n",
              "       [2.4755697],\n",
              "       [2.4521322]], dtype=float32)"
            ]
          },
          "execution_count": 251,
          "metadata": {},
          "output_type": "execute_result"
        }
      ],
      "source": [
        "ypred"
      ]
    },
    {
      "cell_type": "code",
      "execution_count": 252,
      "metadata": {
        "colab": {
          "base_uri": "https://localhost:8080/"
        },
        "id": "VVBZMvn23UYZ",
        "outputId": "b1a42dbf-2e5a-4666-ede9-0d5468415125"
      },
      "outputs": [
        {
          "data": {
            "text/plain": [
              "array([0, 1, 0, ..., 0, 0, 1])"
            ]
          },
          "execution_count": 252,
          "metadata": {},
          "output_type": "execute_result"
        }
      ],
      "source": [
        "ytest"
      ]
    },
    {
      "cell_type": "code",
      "execution_count": 253,
      "metadata": {
        "colab": {
          "base_uri": "https://localhost:8080/",
          "height": 423
        },
        "id": "AQ1rqSI43Z7b",
        "outputId": "cec1d0f7-a301-4ba5-8789-a4b79a52a4c6"
      },
      "outputs": [
        {
          "data": {
            "text/html": [
              "\n",
              "  <div id=\"df-ddf110c8-e148-4ba5-984a-649b627d19f0\">\n",
              "    <div class=\"colab-df-container\">\n",
              "      <div>\n",
              "<style scoped>\n",
              "    .dataframe tbody tr th:only-of-type {\n",
              "        vertical-align: middle;\n",
              "    }\n",
              "\n",
              "    .dataframe tbody tr th {\n",
              "        vertical-align: top;\n",
              "    }\n",
              "\n",
              "    .dataframe thead th {\n",
              "        text-align: right;\n",
              "    }\n",
              "</style>\n",
              "<table border=\"1\" class=\"dataframe\">\n",
              "  <thead>\n",
              "    <tr style=\"text-align: right;\">\n",
              "      <th></th>\n",
              "      <th>Actual values</th>\n",
              "      <th>predicted values</th>\n",
              "    </tr>\n",
              "  </thead>\n",
              "  <tbody>\n",
              "    <tr>\n",
              "      <th>0</th>\n",
              "      <td>0</td>\n",
              "      <td>2.452132</td>\n",
              "    </tr>\n",
              "    <tr>\n",
              "      <th>1</th>\n",
              "      <td>1</td>\n",
              "      <td>2.467757</td>\n",
              "    </tr>\n",
              "    <tr>\n",
              "      <th>2</th>\n",
              "      <td>0</td>\n",
              "      <td>2.491195</td>\n",
              "    </tr>\n",
              "    <tr>\n",
              "      <th>3</th>\n",
              "      <td>0</td>\n",
              "      <td>2.467757</td>\n",
              "    </tr>\n",
              "    <tr>\n",
              "      <th>4</th>\n",
              "      <td>0</td>\n",
              "      <td>2.483382</td>\n",
              "    </tr>\n",
              "    <tr>\n",
              "      <th>...</th>\n",
              "      <td>...</td>\n",
              "      <td>...</td>\n",
              "    </tr>\n",
              "    <tr>\n",
              "      <th>2995</th>\n",
              "      <td>0</td>\n",
              "      <td>2.452132</td>\n",
              "    </tr>\n",
              "    <tr>\n",
              "      <th>2996</th>\n",
              "      <td>0</td>\n",
              "      <td>2.483382</td>\n",
              "    </tr>\n",
              "    <tr>\n",
              "      <th>2997</th>\n",
              "      <td>0</td>\n",
              "      <td>2.491195</td>\n",
              "    </tr>\n",
              "    <tr>\n",
              "      <th>2998</th>\n",
              "      <td>0</td>\n",
              "      <td>2.475570</td>\n",
              "    </tr>\n",
              "    <tr>\n",
              "      <th>2999</th>\n",
              "      <td>1</td>\n",
              "      <td>2.452132</td>\n",
              "    </tr>\n",
              "  </tbody>\n",
              "</table>\n",
              "<p>3000 rows × 2 columns</p>\n",
              "</div>\n",
              "      <button class=\"colab-df-convert\" onclick=\"convertToInteractive('df-ddf110c8-e148-4ba5-984a-649b627d19f0')\"\n",
              "              title=\"Convert this dataframe to an interactive table.\"\n",
              "              style=\"display:none;\">\n",
              "        \n",
              "  <svg xmlns=\"http://www.w3.org/2000/svg\" height=\"24px\"viewBox=\"0 0 24 24\"\n",
              "       width=\"24px\">\n",
              "    <path d=\"M0 0h24v24H0V0z\" fill=\"none\"/>\n",
              "    <path d=\"M18.56 5.44l.94 2.06.94-2.06 2.06-.94-2.06-.94-.94-2.06-.94 2.06-2.06.94zm-11 1L8.5 8.5l.94-2.06 2.06-.94-2.06-.94L8.5 2.5l-.94 2.06-2.06.94zm10 10l.94 2.06.94-2.06 2.06-.94-2.06-.94-.94-2.06-.94 2.06-2.06.94z\"/><path d=\"M17.41 7.96l-1.37-1.37c-.4-.4-.92-.59-1.43-.59-.52 0-1.04.2-1.43.59L10.3 9.45l-7.72 7.72c-.78.78-.78 2.05 0 2.83L4 21.41c.39.39.9.59 1.41.59.51 0 1.02-.2 1.41-.59l7.78-7.78 2.81-2.81c.8-.78.8-2.07 0-2.86zM5.41 20L4 18.59l7.72-7.72 1.47 1.35L5.41 20z\"/>\n",
              "  </svg>\n",
              "      </button>\n",
              "      \n",
              "  <style>\n",
              "    .colab-df-container {\n",
              "      display:flex;\n",
              "      flex-wrap:wrap;\n",
              "      gap: 12px;\n",
              "    }\n",
              "\n",
              "    .colab-df-convert {\n",
              "      background-color: #E8F0FE;\n",
              "      border: none;\n",
              "      border-radius: 50%;\n",
              "      cursor: pointer;\n",
              "      display: none;\n",
              "      fill: #1967D2;\n",
              "      height: 32px;\n",
              "      padding: 0 0 0 0;\n",
              "      width: 32px;\n",
              "    }\n",
              "\n",
              "    .colab-df-convert:hover {\n",
              "      background-color: #E2EBFA;\n",
              "      box-shadow: 0px 1px 2px rgba(60, 64, 67, 0.3), 0px 1px 3px 1px rgba(60, 64, 67, 0.15);\n",
              "      fill: #174EA6;\n",
              "    }\n",
              "\n",
              "    [theme=dark] .colab-df-convert {\n",
              "      background-color: #3B4455;\n",
              "      fill: #D2E3FC;\n",
              "    }\n",
              "\n",
              "    [theme=dark] .colab-df-convert:hover {\n",
              "      background-color: #434B5C;\n",
              "      box-shadow: 0px 1px 3px 1px rgba(0, 0, 0, 0.15);\n",
              "      filter: drop-shadow(0px 1px 2px rgba(0, 0, 0, 0.3));\n",
              "      fill: #FFFFFF;\n",
              "    }\n",
              "  </style>\n",
              "\n",
              "      <script>\n",
              "        const buttonEl =\n",
              "          document.querySelector('#df-ddf110c8-e148-4ba5-984a-649b627d19f0 button.colab-df-convert');\n",
              "        buttonEl.style.display =\n",
              "          google.colab.kernel.accessAllowed ? 'block' : 'none';\n",
              "\n",
              "        async function convertToInteractive(key) {\n",
              "          const element = document.querySelector('#df-ddf110c8-e148-4ba5-984a-649b627d19f0');\n",
              "          const dataTable =\n",
              "            await google.colab.kernel.invokeFunction('convertToInteractive',\n",
              "                                                     [key], {});\n",
              "          if (!dataTable) return;\n",
              "\n",
              "          const docLinkHtml = 'Like what you see? Visit the ' +\n",
              "            '<a target=\"_blank\" href=https://colab.research.google.com/notebooks/data_table.ipynb>data table notebook</a>'\n",
              "            + ' to learn more about interactive tables.';\n",
              "          element.innerHTML = '';\n",
              "          dataTable['output_type'] = 'display_data';\n",
              "          await google.colab.output.renderOutput(dataTable, element);\n",
              "          const docLink = document.createElement('div');\n",
              "          docLink.innerHTML = docLinkHtml;\n",
              "          element.appendChild(docLink);\n",
              "        }\n",
              "      </script>\n",
              "    </div>\n",
              "  </div>\n",
              "  "
            ],
            "text/plain": [
              "      Actual values  predicted values\n",
              "0                 0          2.452132\n",
              "1                 1          2.467757\n",
              "2                 0          2.491195\n",
              "3                 0          2.467757\n",
              "4                 0          2.483382\n",
              "...             ...               ...\n",
              "2995              0          2.452132\n",
              "2996              0          2.483382\n",
              "2997              0          2.491195\n",
              "2998              0          2.475570\n",
              "2999              1          2.452132\n",
              "\n",
              "[3000 rows x 2 columns]"
            ]
          },
          "execution_count": 253,
          "metadata": {},
          "output_type": "execute_result"
        }
      ],
      "source": [
        "pd.DataFrame({'Actual values': ytest.flatten(),\n",
        "             'predicted values': ypred.flatten()})"
      ]
    }
  ],
  "metadata": {
    "accelerator": "GPU",
    "colab": {
      "collapsed_sections": [],
      "provenance": []
    },
    "kernelspec": {
      "display_name": "Python 3",
      "name": "python3"
    },
    "language_info": {
      "name": "python"
    }
  },
  "nbformat": 4,
  "nbformat_minor": 0
}
