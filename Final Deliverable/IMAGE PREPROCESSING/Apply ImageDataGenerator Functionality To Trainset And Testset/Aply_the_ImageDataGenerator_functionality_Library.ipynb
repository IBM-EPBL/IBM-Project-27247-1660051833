{
  "nbformat": 4,
  "nbformat_minor": 0,
  "metadata": {
    "colab": {
      "provenance": []
    },
    "kernelspec": {
      "name": "python3",
      "display_name": "Python 3"
    },
    "language_info": {
      "name": "python"
    }
  },
  "cells": [
    {
      "cell_type": "code",
      "source": [
        "from google.colab import drive\n",
        "drive.mount('/content/drive')"
      ],
      "metadata": {
        "colab": {
          "base_uri": "https://localhost:8080/"
        },
        "id": "LqlYtFEG4lIb",
        "outputId": "38221cc6-1d32-4bc9-d0e8-43c80f230f2b"
      },
      "execution_count": 1,
      "outputs": [
        {
          "output_type": "stream",
          "name": "stdout",
          "text": [
            "Mounted at /content/drive\n"
          ]
        }
      ]
    },
    {
      "cell_type": "markdown",
      "source": [
        "**Import The ImageDataGenerator Library**"
      ],
      "metadata": {
        "id": "ocSPV_MP6L_a"
      }
    },
    {
      "cell_type": "code",
      "execution_count": 2,
      "metadata": {
        "id": "muXSylbl4aCW"
      },
      "outputs": [],
      "source": [
        "from keras.preprocessing.image import ImageDataGenerator"
      ]
    },
    {
      "cell_type": "markdown",
      "source": [
        "**Configure ImageDataGenerator Class**"
      ],
      "metadata": {
        "id": "2_B_N0s76hNQ"
      }
    },
    {
      "cell_type": "code",
      "source": [
        "train_datagon=ImageDataGenerator(rescale=1./255,shear_range=0.2,zoom_range=0.2,horizontal_flip=True)\n",
        "test_datagon=ImageDataGenerator(rescale=1./255)"
      ],
      "metadata": {
        "id": "Y_Cmlnae619J"
      },
      "execution_count": 3,
      "outputs": []
    },
    {
      "cell_type": "markdown",
      "source": [
        "**Apply ImageDataGenerator Functionality To Trainset And Testset**"
      ],
      "metadata": {
        "id": "CvDoR1dN7aFH"
      }
    },
    {
      "cell_type": "code",
      "source": [
        "x_train=train_datagon.flow_from_directory('/content/drive/MyDrive/dataset/train_set',target_size=(64,64),batch_size=5,color_mode='rgb',class_mode='categorical')\n",
        "x_test=test_datagon.flow_from_directory('/content/drive/MyDrive/dataset/test_set',target_size=(64,64),batch_size=5,color_mode='rgb',class_mode='categorical')"
      ],
      "metadata": {
        "colab": {
          "base_uri": "https://localhost:8080/"
        },
        "id": "hzDTDeOk7YLR",
        "outputId": "8a632bf3-8b9b-41d7-ae3e-49f93c43816f"
      },
      "execution_count": 4,
      "outputs": [
        {
          "output_type": "stream",
          "name": "stdout",
          "text": [
            "Found 750 images belonging to 4 classes.\n",
            "Found 198 images belonging to 4 classes.\n"
          ]
        }
      ]
    },
    {
      "cell_type": "markdown",
      "source": [],
      "metadata": {
        "id": "M5utPcL67X0f"
      }
    }
  ]
}